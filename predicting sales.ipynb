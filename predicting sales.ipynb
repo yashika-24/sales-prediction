{
 "cells": [
  {
   "cell_type": "code",
   "execution_count": 1,
   "metadata": {},
   "outputs": [],
   "source": [
    "import numpy as np\n",
    "import pandas as pd\n",
    "from pandas import DataFrame,Series\n",
    "import matplotlib.pyplot as plt\n",
    "import seaborn as sns\n",
    "import scipy.stats as stats\n",
    "from sklearn.model_selection import train_test_split\n",
    "from sklearn.linear_model import LinearRegression,Ridge,Lasso\n",
    "from sklearn.metrics import mean_squared_error,mean_absolute_error,r2_score\n",
    "import statsmodels.stats.api as sms\n",
    "from statsmodels.compat import lzip\n",
    "from sklearn.preprocessing import StandardScaler\n",
    "import statsmodels.formula.api as smf\n",
    "from sklearn.model_selection import train_test_split, KFold, cross_val_score\n",
    "\n",
    "import numpy as np\n",
    "import pandas as pd\n",
    "from pandas import DataFrame,Series\n",
    "import matplotlib.pyplot as plt\n",
    "import seaborn as sns\n",
    "import scipy.stats as stats\n",
    "import statsmodels.formula.api as smf\n",
    "import statsmodels.api as sm\n",
    "from sklearn.linear_model import LinearRegression\n",
    "from sklearn.model_selection import train_test_split\n",
    "from sklearn import metrics\n",
    "\n",
    "from sklearn.decomposition import PCA"
   ]
  },
  {
   "cell_type": "code",
   "execution_count": 2,
   "metadata": {},
   "outputs": [],
   "source": [
    "train=pd.read_csv('train.csv')\n",
    "\n",
    "test=pd.read_csv('test.csv')"
   ]
  },
  {
   "cell_type": "code",
   "execution_count": 3,
   "metadata": {},
   "outputs": [
    {
     "data": {
      "text/plain": [
       "Year                          0\n",
       "Month                         0\n",
       "ProductCategory               0\n",
       "Sales(In ThousandDollars)    12\n",
       "dtype: int64"
      ]
     },
     "execution_count": 3,
     "metadata": {},
     "output_type": "execute_result"
    }
   ],
   "source": [
    "train.isnull().sum()\n"
   ]
  },
  {
   "cell_type": "code",
   "execution_count": 5,
   "metadata": {},
   "outputs": [],
   "source": [
    "#dropping the null values\n",
    "\n",
    "train.dropna(inplace=True)"
   ]
  },
  {
   "cell_type": "code",
   "execution_count": 6,
   "metadata": {},
   "outputs": [],
   "source": [
    "#importing data macro\n",
    "\n",
    "macro=pd.read_excel(\"macro_economic.xlsx\")"
   ]
  },
  {
   "cell_type": "code",
   "execution_count": 7,
   "metadata": {},
   "outputs": [
    {
     "data": {
      "text/html": [
       "<div>\n",
       "<style scoped>\n",
       "    .dataframe tbody tr th:only-of-type {\n",
       "        vertical-align: middle;\n",
       "    }\n",
       "\n",
       "    .dataframe tbody tr th {\n",
       "        vertical-align: top;\n",
       "    }\n",
       "\n",
       "    .dataframe thead th {\n",
       "        text-align: right;\n",
       "    }\n",
       "</style>\n",
       "<table border=\"1\" class=\"dataframe\">\n",
       "  <thead>\n",
       "    <tr style=\"text-align: right;\">\n",
       "      <th></th>\n",
       "      <th>Year-Month</th>\n",
       "      <th>Monthly Nominal GDP Index (inMillion$)</th>\n",
       "      <th>Monthly Real GDP Index (inMillion$)</th>\n",
       "      <th>CPI</th>\n",
       "      <th>PartyInPower</th>\n",
       "      <th>unemployment rate</th>\n",
       "      <th>CommercialBankInterestRateonCreditCardPlans</th>\n",
       "      <th>Finance Rate on Personal Loans at Commercial Banks, 24 Month Loan</th>\n",
       "      <th>Earnings or wages  in dollars per hour</th>\n",
       "      <th>AdvertisingExpenses (in Thousand Dollars)</th>\n",
       "      <th>Cotton Monthly Price - US cents per Pound(lbs)</th>\n",
       "      <th>Change(in%)</th>\n",
       "      <th>Average upland planted(million acres)</th>\n",
       "      <th>Average upland harvested(million acres)</th>\n",
       "      <th>yieldperharvested acre</th>\n",
       "      <th>Production (in  480-lb netweright in million bales)</th>\n",
       "      <th>Mill use  (in  480-lb netweright in million bales)</th>\n",
       "      <th>Exports</th>\n",
       "    </tr>\n",
       "  </thead>\n",
       "  <tbody>\n",
       "    <tr>\n",
       "      <th>0</th>\n",
       "      <td>2009 - Jan</td>\n",
       "      <td>14421.752895</td>\n",
       "      <td>14407.053343</td>\n",
       "      <td>233.402</td>\n",
       "      <td>Democrats</td>\n",
       "      <td>7.8</td>\n",
       "      <td>12.03</td>\n",
       "      <td>11.44</td>\n",
       "      <td>22.05</td>\n",
       "      <td>137</td>\n",
       "      <td>57.70</td>\n",
       "      <td>4.02</td>\n",
       "      <td>9.296</td>\n",
       "      <td>7.559</td>\n",
       "      <td>799</td>\n",
       "      <td>12.589</td>\n",
       "      <td>4.17</td>\n",
       "      <td>11.550</td>\n",
       "    </tr>\n",
       "    <tr>\n",
       "      <th>1</th>\n",
       "      <td>2009 - Feb</td>\n",
       "      <td>14389.200466</td>\n",
       "      <td>14366.176571</td>\n",
       "      <td>234.663</td>\n",
       "      <td>Democrats</td>\n",
       "      <td>8.3</td>\n",
       "      <td>12.97</td>\n",
       "      <td>11.05</td>\n",
       "      <td>22.22</td>\n",
       "      <td>200</td>\n",
       "      <td>55.21</td>\n",
       "      <td>-4.32</td>\n",
       "      <td>9.296</td>\n",
       "      <td>7.559</td>\n",
       "      <td>799</td>\n",
       "      <td>12.589</td>\n",
       "      <td>3.87</td>\n",
       "      <td>11.100</td>\n",
       "    </tr>\n",
       "    <tr>\n",
       "      <th>2</th>\n",
       "      <td>2009 - Mar</td>\n",
       "      <td>14340.701639</td>\n",
       "      <td>14351.786822</td>\n",
       "      <td>235.067</td>\n",
       "      <td>Democrats</td>\n",
       "      <td>8.7</td>\n",
       "      <td>12.97</td>\n",
       "      <td>11.05</td>\n",
       "      <td>22.22</td>\n",
       "      <td>?</td>\n",
       "      <td>51.50</td>\n",
       "      <td>-6.72</td>\n",
       "      <td>9.296</td>\n",
       "      <td>7.559</td>\n",
       "      <td>799</td>\n",
       "      <td>12.589</td>\n",
       "      <td>3.72</td>\n",
       "      <td>11.650</td>\n",
       "    </tr>\n",
       "    <tr>\n",
       "      <th>3</th>\n",
       "      <td>2009 - Apr</td>\n",
       "      <td>14326.815525</td>\n",
       "      <td>14351.601731</td>\n",
       "      <td>235.582</td>\n",
       "      <td>Democrats</td>\n",
       "      <td>9.0</td>\n",
       "      <td>12.97</td>\n",
       "      <td>11.05</td>\n",
       "      <td>22.13</td>\n",
       "      <td>214</td>\n",
       "      <td>56.78</td>\n",
       "      <td>10.25</td>\n",
       "      <td>9.296</td>\n",
       "      <td>7.559</td>\n",
       "      <td>787</td>\n",
       "      <td>12.400</td>\n",
       "      <td>3.62</td>\n",
       "      <td>12.225</td>\n",
       "    </tr>\n",
       "    <tr>\n",
       "      <th>4</th>\n",
       "      <td>2009 - May</td>\n",
       "      <td>14345.904809</td>\n",
       "      <td>14368.123959</td>\n",
       "      <td>235.975</td>\n",
       "      <td>Democrats</td>\n",
       "      <td>9.4</td>\n",
       "      <td>13.32</td>\n",
       "      <td>11.25</td>\n",
       "      <td>22.04</td>\n",
       "      <td>?</td>\n",
       "      <td>61.95</td>\n",
       "      <td>9.11</td>\n",
       "      <td>9.297</td>\n",
       "      <td>7.400</td>\n",
       "      <td>803</td>\n",
       "      <td>12.384</td>\n",
       "      <td>3.52</td>\n",
       "      <td>12.300</td>\n",
       "    </tr>\n",
       "  </tbody>\n",
       "</table>\n",
       "</div>"
      ],
      "text/plain": [
       "   Year-Month  Monthly Nominal GDP Index (inMillion$)  \\\n",
       "0  2009 - Jan                            14421.752895   \n",
       "1  2009 - Feb                            14389.200466   \n",
       "2  2009 - Mar                            14340.701639   \n",
       "3  2009 - Apr                            14326.815525   \n",
       "4  2009 - May                            14345.904809   \n",
       "\n",
       "   Monthly Real GDP Index (inMillion$)      CPI PartyInPower  \\\n",
       "0                         14407.053343  233.402    Democrats   \n",
       "1                         14366.176571  234.663    Democrats   \n",
       "2                         14351.786822  235.067    Democrats   \n",
       "3                         14351.601731  235.582    Democrats   \n",
       "4                         14368.123959  235.975    Democrats   \n",
       "\n",
       "   unemployment rate  CommercialBankInterestRateonCreditCardPlans  \\\n",
       "0                7.8                                        12.03   \n",
       "1                8.3                                        12.97   \n",
       "2                8.7                                        12.97   \n",
       "3                9.0                                        12.97   \n",
       "4                9.4                                        13.32   \n",
       "\n",
       "   Finance Rate on Personal Loans at Commercial Banks, 24 Month Loan  \\\n",
       "0                                              11.44                   \n",
       "1                                              11.05                   \n",
       "2                                              11.05                   \n",
       "3                                              11.05                   \n",
       "4                                              11.25                   \n",
       "\n",
       "   Earnings or wages  in dollars per hour  \\\n",
       "0                                   22.05   \n",
       "1                                   22.22   \n",
       "2                                   22.22   \n",
       "3                                   22.13   \n",
       "4                                   22.04   \n",
       "\n",
       "  AdvertisingExpenses (in Thousand Dollars)  \\\n",
       "0                                       137   \n",
       "1                                       200   \n",
       "2                                         ?   \n",
       "3                                       214   \n",
       "4                                         ?   \n",
       "\n",
       "   Cotton Monthly Price - US cents per Pound(lbs)  Change(in%)  \\\n",
       "0                                           57.70         4.02   \n",
       "1                                           55.21        -4.32   \n",
       "2                                           51.50        -6.72   \n",
       "3                                           56.78        10.25   \n",
       "4                                           61.95         9.11   \n",
       "\n",
       "   Average upland planted(million acres)  \\\n",
       "0                                  9.296   \n",
       "1                                  9.296   \n",
       "2                                  9.296   \n",
       "3                                  9.296   \n",
       "4                                  9.297   \n",
       "\n",
       "   Average upland harvested(million acres)  yieldperharvested acre  \\\n",
       "0                                    7.559                     799   \n",
       "1                                    7.559                     799   \n",
       "2                                    7.559                     799   \n",
       "3                                    7.559                     787   \n",
       "4                                    7.400                     803   \n",
       "\n",
       "   Production (in  480-lb netweright in million bales)  \\\n",
       "0                                             12.589     \n",
       "1                                             12.589     \n",
       "2                                             12.589     \n",
       "3                                             12.400     \n",
       "4                                             12.384     \n",
       "\n",
       "   Mill use  (in  480-lb netweright in million bales)  Exports  \n",
       "0                                               4.17    11.550  \n",
       "1                                               3.87    11.100  \n",
       "2                                               3.72    11.650  \n",
       "3                                               3.62    12.225  \n",
       "4                                               3.52    12.300  "
      ]
     },
     "execution_count": 7,
     "metadata": {},
     "output_type": "execute_result"
    }
   ],
   "source": [
    "macro.head()"
   ]
  },
  {
   "cell_type": "markdown",
   "metadata": {},
   "source": [
    "splitting the year and month "
   ]
  },
  {
   "cell_type": "code",
   "execution_count": 8,
   "metadata": {},
   "outputs": [
    {
     "name": "stdout",
     "output_type": "stream",
     "text": [
      "['2009 ', '2009 ', '2009 ', '2009 ', '2009 ', '2009 ', '2009 ', '2009 ', '2009 ', '2009 ', '2009 ', '2009 ', '2010 ', '2010 ', '2010 ', '2010 ', '2010 ', '2010 ', '2010 ', '2010 ', '2010 ', '2010 ', '2010 ', '2010 ', '2011 ', '2011 ', '2011 ', '2011 ', '2011 ', '2011 ', '2011 ', '2011 ', '2011 ', '2011 ', '2011 ', '2011 ', '2012 ', '2012 ', '2012 ', '2012 ', '2012 ', '2012 ', '2012 ', '2012 ', '2012 ', '2012 ', '2012 ', '2012 ', '2013 ', '2013 ', '2013 ', '2013 ', '2013 ', '2013 ', '2013 ', '2013 ', '2013 ', '2013 ', '2013 ', '2013 ', '2014 ', '2014 ', '2014 ', '2014 ', '2014 ', '2014 ', '2014 ', '2014 ', '2014 ', '2014 ', '2014 ', '2014 ', '2015 ', '2015 ', '2015 ', '2015 ', '2015 ', '2015 ', '2015 ', '2015 ', '2015 ', '2015 ', '2015 ', '2015 ', '2016 ', '2016 ', '2016 ', '2016 ', '2016 ', '2016 ', '2016 ', '2016 ', '2016 ', '2016 ', '2016 ', '2016 ']\n",
      "[' Jan', ' Feb', ' Mar', ' Apr', ' May', ' Jun', ' Jul', ' Aug', ' Sep', ' Oct', ' Nov', ' Dec', ' Jan', ' Feb', ' Mar', ' Apr', ' May', ' Jun', ' Jul', ' Aug', ' Sep', ' Oct', ' Nov', ' Dec', ' Jan', ' Feb', ' Mar', ' Apr', ' May', ' Jun', ' Jul', ' Aug', ' Sep', ' Oct', ' Nov', ' Dec', ' Jan', ' Feb', ' Mar', ' Apr', ' May', ' Jun', ' Jul', ' Aug', ' Sep', ' Oct', ' Nov', ' Dec', ' Jan', ' Feb', ' Mar', ' Apr', ' May', ' Jun', ' Jul', ' Aug', ' Sep', ' Oct', ' Nov', ' Dec', ' Jan', ' Feb', ' Mar', ' Apr', ' May', ' Jun', ' Jul', ' Aug', ' Sep', ' Oct', ' Nov', ' Dec', ' Jan', ' Feb', ' Mar', ' Apr', ' May', ' Jun', ' Jul', ' Aug', ' Sep', ' Oct', ' Nov', ' Dec', ' Jan', ' Feb', ' Mar', ' Apr', ' May', ' Jun', ' Jul', ' Aug', ' Sep', ' Oct', ' Nov', ' Dec']\n"
     ]
    }
   ],
   "source": [
    "Year=[]\n",
    "Month=[]\n",
    "for i in range(len(macro['Year-Month'])):\n",
    "    Year.append(macro['Year-Month'][i].split('-')[0])\n",
    "    Month.append(macro['Year-Month'][i].split('-')[1])\n",
    "    \n",
    "    \n",
    "print(Year)\n",
    "print(Month)"
   ]
  },
  {
   "cell_type": "code",
   "execution_count": 9,
   "metadata": {},
   "outputs": [],
   "source": [
    "macro.drop('Year-Month',inplace=True,axis=1)\n",
    "macro['Year']=Year\n",
    "macro['Month']=Month\n",
    "\n"
   ]
  },
  {
   "cell_type": "code",
   "execution_count": 10,
   "metadata": {},
   "outputs": [
    {
     "data": {
      "text/html": [
       "<div>\n",
       "<style scoped>\n",
       "    .dataframe tbody tr th:only-of-type {\n",
       "        vertical-align: middle;\n",
       "    }\n",
       "\n",
       "    .dataframe tbody tr th {\n",
       "        vertical-align: top;\n",
       "    }\n",
       "\n",
       "    .dataframe thead th {\n",
       "        text-align: right;\n",
       "    }\n",
       "</style>\n",
       "<table border=\"1\" class=\"dataframe\">\n",
       "  <thead>\n",
       "    <tr style=\"text-align: right;\">\n",
       "      <th></th>\n",
       "      <th>Monthly Nominal GDP Index (inMillion$)</th>\n",
       "      <th>Monthly Real GDP Index (inMillion$)</th>\n",
       "      <th>CPI</th>\n",
       "      <th>PartyInPower</th>\n",
       "      <th>unemployment rate</th>\n",
       "      <th>CommercialBankInterestRateonCreditCardPlans</th>\n",
       "      <th>Finance Rate on Personal Loans at Commercial Banks, 24 Month Loan</th>\n",
       "      <th>Earnings or wages  in dollars per hour</th>\n",
       "      <th>AdvertisingExpenses (in Thousand Dollars)</th>\n",
       "      <th>Cotton Monthly Price - US cents per Pound(lbs)</th>\n",
       "      <th>Change(in%)</th>\n",
       "      <th>Average upland planted(million acres)</th>\n",
       "      <th>Average upland harvested(million acres)</th>\n",
       "      <th>yieldperharvested acre</th>\n",
       "      <th>Production (in  480-lb netweright in million bales)</th>\n",
       "      <th>Mill use  (in  480-lb netweright in million bales)</th>\n",
       "      <th>Exports</th>\n",
       "      <th>Year</th>\n",
       "      <th>Month</th>\n",
       "    </tr>\n",
       "  </thead>\n",
       "  <tbody>\n",
       "    <tr>\n",
       "      <th>0</th>\n",
       "      <td>14421.752895</td>\n",
       "      <td>14407.053343</td>\n",
       "      <td>233.402</td>\n",
       "      <td>Democrats</td>\n",
       "      <td>7.8</td>\n",
       "      <td>12.03</td>\n",
       "      <td>11.44</td>\n",
       "      <td>22.05</td>\n",
       "      <td>137</td>\n",
       "      <td>57.70</td>\n",
       "      <td>4.02</td>\n",
       "      <td>9.296</td>\n",
       "      <td>7.559</td>\n",
       "      <td>799</td>\n",
       "      <td>12.589</td>\n",
       "      <td>4.17</td>\n",
       "      <td>11.550</td>\n",
       "      <td>2009</td>\n",
       "      <td>Jan</td>\n",
       "    </tr>\n",
       "    <tr>\n",
       "      <th>1</th>\n",
       "      <td>14389.200466</td>\n",
       "      <td>14366.176571</td>\n",
       "      <td>234.663</td>\n",
       "      <td>Democrats</td>\n",
       "      <td>8.3</td>\n",
       "      <td>12.97</td>\n",
       "      <td>11.05</td>\n",
       "      <td>22.22</td>\n",
       "      <td>200</td>\n",
       "      <td>55.21</td>\n",
       "      <td>-4.32</td>\n",
       "      <td>9.296</td>\n",
       "      <td>7.559</td>\n",
       "      <td>799</td>\n",
       "      <td>12.589</td>\n",
       "      <td>3.87</td>\n",
       "      <td>11.100</td>\n",
       "      <td>2009</td>\n",
       "      <td>Feb</td>\n",
       "    </tr>\n",
       "    <tr>\n",
       "      <th>2</th>\n",
       "      <td>14340.701639</td>\n",
       "      <td>14351.786822</td>\n",
       "      <td>235.067</td>\n",
       "      <td>Democrats</td>\n",
       "      <td>8.7</td>\n",
       "      <td>12.97</td>\n",
       "      <td>11.05</td>\n",
       "      <td>22.22</td>\n",
       "      <td>?</td>\n",
       "      <td>51.50</td>\n",
       "      <td>-6.72</td>\n",
       "      <td>9.296</td>\n",
       "      <td>7.559</td>\n",
       "      <td>799</td>\n",
       "      <td>12.589</td>\n",
       "      <td>3.72</td>\n",
       "      <td>11.650</td>\n",
       "      <td>2009</td>\n",
       "      <td>Mar</td>\n",
       "    </tr>\n",
       "    <tr>\n",
       "      <th>3</th>\n",
       "      <td>14326.815525</td>\n",
       "      <td>14351.601731</td>\n",
       "      <td>235.582</td>\n",
       "      <td>Democrats</td>\n",
       "      <td>9.0</td>\n",
       "      <td>12.97</td>\n",
       "      <td>11.05</td>\n",
       "      <td>22.13</td>\n",
       "      <td>214</td>\n",
       "      <td>56.78</td>\n",
       "      <td>10.25</td>\n",
       "      <td>9.296</td>\n",
       "      <td>7.559</td>\n",
       "      <td>787</td>\n",
       "      <td>12.400</td>\n",
       "      <td>3.62</td>\n",
       "      <td>12.225</td>\n",
       "      <td>2009</td>\n",
       "      <td>Apr</td>\n",
       "    </tr>\n",
       "    <tr>\n",
       "      <th>4</th>\n",
       "      <td>14345.904809</td>\n",
       "      <td>14368.123959</td>\n",
       "      <td>235.975</td>\n",
       "      <td>Democrats</td>\n",
       "      <td>9.4</td>\n",
       "      <td>13.32</td>\n",
       "      <td>11.25</td>\n",
       "      <td>22.04</td>\n",
       "      <td>?</td>\n",
       "      <td>61.95</td>\n",
       "      <td>9.11</td>\n",
       "      <td>9.297</td>\n",
       "      <td>7.400</td>\n",
       "      <td>803</td>\n",
       "      <td>12.384</td>\n",
       "      <td>3.52</td>\n",
       "      <td>12.300</td>\n",
       "      <td>2009</td>\n",
       "      <td>May</td>\n",
       "    </tr>\n",
       "  </tbody>\n",
       "</table>\n",
       "</div>"
      ],
      "text/plain": [
       "   Monthly Nominal GDP Index (inMillion$)  \\\n",
       "0                            14421.752895   \n",
       "1                            14389.200466   \n",
       "2                            14340.701639   \n",
       "3                            14326.815525   \n",
       "4                            14345.904809   \n",
       "\n",
       "   Monthly Real GDP Index (inMillion$)      CPI PartyInPower  \\\n",
       "0                         14407.053343  233.402    Democrats   \n",
       "1                         14366.176571  234.663    Democrats   \n",
       "2                         14351.786822  235.067    Democrats   \n",
       "3                         14351.601731  235.582    Democrats   \n",
       "4                         14368.123959  235.975    Democrats   \n",
       "\n",
       "   unemployment rate  CommercialBankInterestRateonCreditCardPlans  \\\n",
       "0                7.8                                        12.03   \n",
       "1                8.3                                        12.97   \n",
       "2                8.7                                        12.97   \n",
       "3                9.0                                        12.97   \n",
       "4                9.4                                        13.32   \n",
       "\n",
       "   Finance Rate on Personal Loans at Commercial Banks, 24 Month Loan  \\\n",
       "0                                              11.44                   \n",
       "1                                              11.05                   \n",
       "2                                              11.05                   \n",
       "3                                              11.05                   \n",
       "4                                              11.25                   \n",
       "\n",
       "   Earnings or wages  in dollars per hour  \\\n",
       "0                                   22.05   \n",
       "1                                   22.22   \n",
       "2                                   22.22   \n",
       "3                                   22.13   \n",
       "4                                   22.04   \n",
       "\n",
       "  AdvertisingExpenses (in Thousand Dollars)  \\\n",
       "0                                       137   \n",
       "1                                       200   \n",
       "2                                         ?   \n",
       "3                                       214   \n",
       "4                                         ?   \n",
       "\n",
       "   Cotton Monthly Price - US cents per Pound(lbs)  Change(in%)  \\\n",
       "0                                           57.70         4.02   \n",
       "1                                           55.21        -4.32   \n",
       "2                                           51.50        -6.72   \n",
       "3                                           56.78        10.25   \n",
       "4                                           61.95         9.11   \n",
       "\n",
       "   Average upland planted(million acres)  \\\n",
       "0                                  9.296   \n",
       "1                                  9.296   \n",
       "2                                  9.296   \n",
       "3                                  9.296   \n",
       "4                                  9.297   \n",
       "\n",
       "   Average upland harvested(million acres)  yieldperharvested acre  \\\n",
       "0                                    7.559                     799   \n",
       "1                                    7.559                     799   \n",
       "2                                    7.559                     799   \n",
       "3                                    7.559                     787   \n",
       "4                                    7.400                     803   \n",
       "\n",
       "   Production (in  480-lb netweright in million bales)  \\\n",
       "0                                             12.589     \n",
       "1                                             12.589     \n",
       "2                                             12.589     \n",
       "3                                             12.400     \n",
       "4                                             12.384     \n",
       "\n",
       "   Mill use  (in  480-lb netweright in million bales)  Exports   Year Month  \n",
       "0                                               4.17    11.550  2009    Jan  \n",
       "1                                               3.87    11.100  2009    Feb  \n",
       "2                                               3.72    11.650  2009    Mar  \n",
       "3                                               3.62    12.225  2009    Apr  \n",
       "4                                               3.52    12.300  2009    May  "
      ]
     },
     "execution_count": 10,
     "metadata": {},
     "output_type": "execute_result"
    }
   ],
   "source": [
    "macro.head()"
   ]
  },
  {
   "cell_type": "code",
   "execution_count": 11,
   "metadata": {},
   "outputs": [],
   "source": [
    "month=[' Jan',' Feb',' Mar',' Apr',' May',' Jun',' Jul',' Aug',' Sep',' Oct',' Nov',' Dec']\n",
    "for i in range(len(month)):\n",
    "    macro['Month'].replace({month[i]:i+1},inplace=True)"
   ]
  },
  {
   "cell_type": "code",
   "execution_count": 12,
   "metadata": {},
   "outputs": [],
   "source": [
    "macro['Year']=macro['Year'].astype(int)"
   ]
  },
  {
   "cell_type": "code",
   "execution_count": 13,
   "metadata": {},
   "outputs": [],
   "source": [
    "all_=pd.concat([test,train],axis=0,sort=False)"
   ]
  },
  {
   "cell_type": "code",
   "execution_count": 14,
   "metadata": {},
   "outputs": [],
   "source": [
    "macro['Year']=macro['Year'].astype(int)"
   ]
  },
  {
   "cell_type": "code",
   "execution_count": 15,
   "metadata": {},
   "outputs": [],
   "source": [
    "data=pd.merge(all_,macro)"
   ]
  },
  {
   "cell_type": "markdown",
   "metadata": {},
   "source": [
    "# Dropping the categorical columns which are not required"
   ]
  },
  {
   "cell_type": "code",
   "execution_count": 16,
   "metadata": {},
   "outputs": [],
   "source": [
    "data.drop('PartyInPower',inplace=True,axis=1)\n",
    "data.drop('AdvertisingExpenses (in Thousand Dollars)',inplace=True,axis=1)"
   ]
  },
  {
   "cell_type": "markdown",
   "metadata": {},
   "source": [
    "# Replacing the categorical columns with numerical"
   ]
  },
  {
   "cell_type": "code",
   "execution_count": 17,
   "metadata": {},
   "outputs": [],
   "source": [
    "from sklearn.preprocessing import LabelEncoder\n",
    "lb=LabelEncoder()\n",
    "\n",
    "ProductCategory=lb.fit_transform(data['ProductCategory'])\n",
    "data.drop('ProductCategory',axis=1,inplace=True)\n",
    "data['ProductCategory']=ProductCategory"
   ]
  },
  {
   "cell_type": "markdown",
   "metadata": {},
   "source": [
    "# Splitting the data back to test and train"
   ]
  },
  {
   "cell_type": "code",
   "execution_count": 18,
   "metadata": {},
   "outputs": [
    {
     "data": {
      "text/plain": [
       "(36, 19)"
      ]
     },
     "execution_count": 18,
     "metadata": {},
     "output_type": "execute_result"
    }
   ],
   "source": [
    "test=data.loc[:35,:]\n",
    "test.shape"
   ]
  },
  {
   "cell_type": "code",
   "execution_count": 19,
   "metadata": {},
   "outputs": [
    {
     "data": {
      "text/plain": [
       "(204, 19)"
      ]
     },
     "execution_count": 19,
     "metadata": {},
     "output_type": "execute_result"
    }
   ],
   "source": [
    "train=data.loc[36:,:]\n",
    "train.shape"
   ]
  },
  {
   "cell_type": "markdown",
   "metadata": {},
   "source": [
    "# Train Test Split"
   ]
  },
  {
   "cell_type": "code",
   "execution_count": 21,
   "metadata": {},
   "outputs": [],
   "source": [
    "x=train.drop('Sales(In ThousandDollars)',axis=1)\n",
    "y=train['Sales(In ThousandDollars)']\n",
    "\n",
    "x_train,x_test,y_train,y_test=train_test_split(x,y,test_size=0.3,random_state=30)"
   ]
  },
  {
   "cell_type": "markdown",
   "metadata": {},
   "source": [
    "# Linear Regression"
   ]
  },
  {
   "cell_type": "code",
   "execution_count": 22,
   "metadata": {},
   "outputs": [
    {
     "data": {
      "text/plain": [
       "LinearRegression(copy_X=True, fit_intercept=True, n_jobs=None, normalize=False)"
      ]
     },
     "execution_count": 22,
     "metadata": {},
     "output_type": "execute_result"
    }
   ],
   "source": [
    "lm=LinearRegression()\n",
    "lm.fit(x_train,y_train)"
   ]
  },
  {
   "cell_type": "code",
   "execution_count": 23,
   "metadata": {},
   "outputs": [],
   "source": [
    "ypred=lm.predict(x_test)"
   ]
  },
  {
   "cell_type": "code",
   "execution_count": 24,
   "metadata": {},
   "outputs": [
    {
     "data": {
      "text/plain": [
       "623.1501107918934"
      ]
     },
     "execution_count": 24,
     "metadata": {},
     "output_type": "execute_result"
    }
   ],
   "source": [
    "RMSE_train = np.sqrt(metrics.mean_squared_error(ypred,y_test))\n",
    "RMSE_train"
   ]
  },
  {
   "cell_type": "code",
   "execution_count": 25,
   "metadata": {},
   "outputs": [
    {
     "name": "stderr",
     "output_type": "stream",
     "text": [
      "//anaconda3/lib/python3.7/site-packages/pandas/core/frame.py:3940: SettingWithCopyWarning: \n",
      "A value is trying to be set on a copy of a slice from a DataFrame\n",
      "\n",
      "See the caveats in the documentation: http://pandas.pydata.org/pandas-docs/stable/indexing.html#indexing-view-versus-copy\n",
      "  errors=errors)\n",
      "//anaconda3/lib/python3.7/site-packages/ipykernel_launcher.py:3: SettingWithCopyWarning: \n",
      "A value is trying to be set on a copy of a slice from a DataFrame.\n",
      "Try using .loc[row_indexer,col_indexer] = value instead\n",
      "\n",
      "See the caveats in the documentation: http://pandas.pydata.org/pandas-docs/stable/indexing.html#indexing-view-versus-copy\n",
      "  This is separate from the ipykernel package so we can avoid doing imports until\n"
     ]
    }
   ],
   "source": [
    "\n",
    "ProductCategory=lb.fit_transform(test['ProductCategory'])\n",
    "test.drop('ProductCategory',axis=1,inplace=True)\n",
    "test['ProductCategory']=ProductCategory\n",
    "\n",
    "test.drop('Sales(In ThousandDollars)',inplace=True,axis=1)"
   ]
  },
  {
   "cell_type": "code",
   "execution_count": 26,
   "metadata": {
    "scrolled": true
   },
   "outputs": [
    {
     "data": {
      "text/plain": [
       "array([3350.31609837,  750.92652264, 2050.62131051, 3408.05697766,\n",
       "        808.66740193, 2108.3621898 , 3665.83666903, 1066.4470933 ,\n",
       "       2366.14188116, 3654.55442027, 1055.16484453, 2354.8596324 ,\n",
       "       3820.94507183, 1221.55549609, 2521.25028396, 3762.76946881,\n",
       "       1163.37989307, 2463.07468094, 3919.05542477, 1319.66584903,\n",
       "       2619.3606369 , 4027.65198567, 1428.26240993, 2727.9571978 ,\n",
       "       3945.6343737 , 1346.24479797, 2645.93958583, 4108.04471534,\n",
       "       1508.65513961, 2808.34992748, 4237.9990969 , 1638.60952117,\n",
       "       2938.30430903, 4466.00565876, 1866.61608303, 3166.31087089])"
      ]
     },
     "execution_count": 26,
     "metadata": {},
     "output_type": "execute_result"
    }
   ],
   "source": [
    "lm.predict(test)"
   ]
  },
  {
   "cell_type": "markdown",
   "metadata": {},
   "source": [
    "# RandomForestRegressor"
   ]
  },
  {
   "cell_type": "code",
   "execution_count": 27,
   "metadata": {},
   "outputs": [],
   "source": [
    "from sklearn.ensemble import RandomForestRegressor\n",
    "RF=RandomForestRegressor(random_state=400,max_depth=7)"
   ]
  },
  {
   "cell_type": "markdown",
   "metadata": {},
   "source": [
    "# Scaling the Data"
   ]
  },
  {
   "cell_type": "code",
   "execution_count": 28,
   "metadata": {},
   "outputs": [
    {
     "name": "stderr",
     "output_type": "stream",
     "text": [
      "//anaconda3/lib/python3.7/site-packages/sklearn/ensemble/forest.py:245: FutureWarning: The default value of n_estimators will change from 10 in version 0.20 to 100 in 0.22.\n",
      "  \"10 in version 0.20 to 100 in 0.22.\", FutureWarning)\n"
     ]
    },
    {
     "data": {
      "text/plain": [
       "RandomForestRegressor(bootstrap=True, criterion='mse', max_depth=7,\n",
       "                      max_features='auto', max_leaf_nodes=None,\n",
       "                      min_impurity_decrease=0.0, min_impurity_split=None,\n",
       "                      min_samples_leaf=1, min_samples_split=2,\n",
       "                      min_weight_fraction_leaf=0.0, n_estimators=10,\n",
       "                      n_jobs=None, oob_score=False, random_state=400, verbose=0,\n",
       "                      warm_start=False)"
      ]
     },
     "execution_count": 28,
     "metadata": {},
     "output_type": "execute_result"
    }
   ],
   "source": [
    "from sklearn.preprocessing import StandardScaler\n",
    "\n",
    "sc=StandardScaler()\n",
    "\n",
    "x_train = sc.fit_transform(x_train) \n",
    "x_test = sc.transform(x_test) \n",
    "  \n",
    "\n",
    "\n",
    "RF.fit(x_train,y_train)"
   ]
  },
  {
   "cell_type": "code",
   "execution_count": 31,
   "metadata": {},
   "outputs": [
    {
     "data": {
      "text/plain": [
       "250.45706535501287"
      ]
     },
     "execution_count": 31,
     "metadata": {},
     "output_type": "execute_result"
    }
   ],
   "source": [
    "y_pred_rand=RF.predict(x_test)\n",
    "RMSE1= np.sqrt(metrics.mean_squared_error(y_pred_rand,y_test))\n",
    "RMSE1"
   ]
  },
  {
   "cell_type": "markdown",
   "metadata": {},
   "source": [
    "# PCA (principal component analysis)"
   ]
  },
  {
   "cell_type": "code",
   "execution_count": 32,
   "metadata": {},
   "outputs": [
    {
     "data": {
      "text/plain": [
       "array([0.43330713, 0.19061536])"
      ]
     },
     "execution_count": 32,
     "metadata": {},
     "output_type": "execute_result"
    }
   ],
   "source": [
    "pca = PCA(n_components = 2,random_state=10) \n",
    "  \n",
    "x_train1 = pca.fit_transform(x_train) \n",
    "x_test1 = pca.transform(x_test) \n",
    "  \n",
    "explained_variance = pca.explained_variance_ratio_\n",
    "explained_variance"
   ]
  },
  {
   "cell_type": "markdown",
   "metadata": {},
   "source": [
    "# Using PCA applied columns in Ensemble methods"
   ]
  },
  {
   "cell_type": "code",
   "execution_count": 33,
   "metadata": {},
   "outputs": [],
   "source": [
    "from sklearn.ensemble import GradientBoostingRegressor\n",
    "model_3 = GradientBoostingRegressor(n_estimators=2)\n",
    "model_3.fit(x_train1,y_train)\n",
    "y_pred1=model_3.predict(x_test1)"
   ]
  },
  {
   "cell_type": "code",
   "execution_count": 34,
   "metadata": {},
   "outputs": [
    {
     "data": {
      "text/plain": [
       "1223.0002960477002"
      ]
     },
     "execution_count": 34,
     "metadata": {},
     "output_type": "execute_result"
    }
   ],
   "source": [
    "RMSE_train = np.sqrt(metrics.mean_squared_error(y_pred1,y_test))\n",
    "RMSE_train"
   ]
  },
  {
   "cell_type": "markdown",
   "metadata": {},
   "source": [
    "# ExtraTreeRegressor"
   ]
  },
  {
   "cell_type": "code",
   "execution_count": 35,
   "metadata": {},
   "outputs": [],
   "source": [
    "from sklearn.tree import ExtraTreeRegressor"
   ]
  },
  {
   "cell_type": "code",
   "execution_count": 36,
   "metadata": {},
   "outputs": [
    {
     "data": {
      "text/plain": [
       "ExtraTreeRegressor(criterion='mse', max_depth=None, max_features='auto',\n",
       "                   max_leaf_nodes=None, min_impurity_decrease=0.0,\n",
       "                   min_impurity_split=None, min_samples_leaf=1,\n",
       "                   min_samples_split=2, min_weight_fraction_leaf=0.0,\n",
       "                   random_state=None, splitter='random')"
      ]
     },
     "execution_count": 36,
     "metadata": {},
     "output_type": "execute_result"
    }
   ],
   "source": [
    "ex=ExtraTreeRegressor()\n",
    "ex.fit(x_train,y_train)"
   ]
  },
  {
   "cell_type": "code",
   "execution_count": 37,
   "metadata": {},
   "outputs": [],
   "source": [
    "e=ex.predict(x_test)"
   ]
  },
  {
   "cell_type": "code",
   "execution_count": 38,
   "metadata": {},
   "outputs": [
    {
     "data": {
      "text/plain": [
       "432.7208926868934"
      ]
     },
     "execution_count": 38,
     "metadata": {},
     "output_type": "execute_result"
    }
   ],
   "source": [
    "RMSE_train = np.sqrt(metrics.mean_squared_error(e,y_test))\n",
    "RMSE_train"
   ]
  },
  {
   "cell_type": "markdown",
   "metadata": {},
   "source": [
    "# GridSearchCV"
   ]
  },
  {
   "cell_type": "code",
   "execution_count": 74,
   "metadata": {},
   "outputs": [
    {
     "data": {
      "text/plain": [
       "GridSearchCV(cv=2, error_score='raise-deprecating',\n",
       "             estimator=RandomForestRegressor(bootstrap=True, criterion='mse',\n",
       "                                             max_depth=7, max_features='auto',\n",
       "                                             max_leaf_nodes=None,\n",
       "                                             min_impurity_decrease=0.0,\n",
       "                                             min_impurity_split=None,\n",
       "                                             min_samples_leaf=1,\n",
       "                                             min_samples_split=2,\n",
       "                                             min_weight_fraction_leaf=0.0,\n",
       "                                             n_estimators=10, n_jobs=None,\n",
       "                                             oob_score=False, random_state=400,\n",
       "                                             verbose=0, warm_start=False),\n",
       "             iid='warn', n_jobs=None,\n",
       "             param_grid={'max_depth': [None, 2, 5, 10],\n",
       "                         'max_leaf_nodes': [None, 5, 10, 20],\n",
       "                         'min_samples_leaf': [1, 5, 10],\n",
       "                         'min_samples_split': [2, 10, 20]},\n",
       "             pre_dispatch='2*n_jobs', refit=True, return_train_score=False,\n",
       "             scoring=None, verbose=0)"
      ]
     },
     "execution_count": 74,
     "metadata": {},
     "output_type": "execute_result"
    }
   ],
   "source": [
    "from sklearn.model_selection import GridSearchCV\n",
    "\n",
    "param_grid = {'min_samples_split':[2,10,20],\\\n",
    "              'max_depth':[None,2,5,10],'min_samples_leaf':[1,5,10],'max_leaf_nodes':[None,5,10,20]}\n",
    "clf1 = GridSearchCV(RF,param_grid,cv=2)\n",
    "clf1.fit(x_train,y_train)"
   ]
  },
  {
   "cell_type": "code",
   "execution_count": 75,
   "metadata": {},
   "outputs": [],
   "source": [
    "c=clf1.predict(x_test)"
   ]
  },
  {
   "cell_type": "code",
   "execution_count": 76,
   "metadata": {},
   "outputs": [
    {
     "data": {
      "text/plain": [
       "299.73280619544795"
      ]
     },
     "execution_count": 76,
     "metadata": {},
     "output_type": "execute_result"
    }
   ],
   "source": [
    "RMSE_train = np.sqrt(metrics.mean_squared_error(c,y_test))\n",
    "RMSE_train"
   ]
  },
  {
   "cell_type": "markdown",
   "metadata": {},
   "source": [
    "# KNeighborsRegressor with GridSearchCV"
   ]
  },
  {
   "cell_type": "code",
   "execution_count": 39,
   "metadata": {},
   "outputs": [],
   "source": [
    "from sklearn.neighbors import KNeighborsRegressor"
   ]
  },
  {
   "cell_type": "code",
   "execution_count": 78,
   "metadata": {},
   "outputs": [
    {
     "data": {
      "text/plain": [
       "GridSearchCV(cv=2, error_score='raise-deprecating',\n",
       "             estimator=KNeighborsRegressor(algorithm='auto', leaf_size=30,\n",
       "                                           metric='minkowski',\n",
       "                                           metric_params=None, n_jobs=None,\n",
       "                                           n_neighbors=5, p=2,\n",
       "                                           weights='uniform'),\n",
       "             iid='warn', n_jobs=None,\n",
       "             param_grid={'metric': ['euclidean', 'manhattan', 'minkowski'],\n",
       "                         'n_neighbors': [3, 5, 7, 9]},\n",
       "             pre_dispatch='2*n_jobs', refit=True, return_train_score=False,\n",
       "             scoring=None, verbose=0)"
      ]
     },
     "execution_count": 78,
     "metadata": {},
     "output_type": "execute_result"
    }
   ],
   "source": [
    "param_grid = {'n_neighbors' : [3,5,7,9],'metric' : ['euclidean','manhattan','minkowski']}\n",
    "knn = KNeighborsRegressor()\n",
    "clf1 = GridSearchCV(knn,param_grid,cv=2)\n",
    "clf1.fit(x_train,y_train)"
   ]
  },
  {
   "cell_type": "code",
   "execution_count": 79,
   "metadata": {},
   "outputs": [],
   "source": [
    "k=clf1.predict(x_test)"
   ]
  },
  {
   "cell_type": "code",
   "execution_count": 80,
   "metadata": {},
   "outputs": [
    {
     "data": {
      "text/plain": [
       "1058.3562222945607"
      ]
     },
     "execution_count": 80,
     "metadata": {},
     "output_type": "execute_result"
    }
   ],
   "source": [
    "RMSE_train = np.sqrt(metrics.mean_squared_error(k,y_test))\n",
    "RMSE_train"
   ]
  },
  {
   "cell_type": "markdown",
   "metadata": {},
   "source": [
    "# AdaBoostRegressor"
   ]
  },
  {
   "cell_type": "code",
   "execution_count": 40,
   "metadata": {},
   "outputs": [
    {
     "data": {
      "text/plain": [
       "0.9364934326450183"
      ]
     },
     "execution_count": 40,
     "metadata": {},
     "output_type": "execute_result"
    }
   ],
   "source": [
    "from sklearn.ensemble import AdaBoostRegressor\n",
    "model_2 = AdaBoostRegressor(random_state=40)\n",
    "model_2.fit(x_train,y_train)\n",
    "model_2.score(x_test,y_test)"
   ]
  },
  {
   "cell_type": "code",
   "execution_count": 41,
   "metadata": {},
   "outputs": [],
   "source": [
    "a=model_2.predict(x_test)"
   ]
  },
  {
   "cell_type": "code",
   "execution_count": 42,
   "metadata": {},
   "outputs": [
    {
     "data": {
      "text/plain": [
       "309.2316450193763"
      ]
     },
     "execution_count": 42,
     "metadata": {},
     "output_type": "execute_result"
    }
   ],
   "source": [
    "RMSE_train = np.sqrt(metrics.mean_squared_error(a,y_test))\n",
    "RMSE_train"
   ]
  },
  {
   "cell_type": "markdown",
   "metadata": {},
   "source": [
    "# PolynomialFeatures"
   ]
  },
  {
   "cell_type": "code",
   "execution_count": 43,
   "metadata": {},
   "outputs": [],
   "source": [
    "from sklearn.preprocessing import PolynomialFeatures \n",
    "  "
   ]
  },
  {
   "cell_type": "code",
   "execution_count": 44,
   "metadata": {},
   "outputs": [
    {
     "data": {
      "text/plain": [
       "LinearRegression(copy_X=True, fit_intercept=True, n_jobs=None, normalize=False)"
      ]
     },
     "execution_count": 44,
     "metadata": {},
     "output_type": "execute_result"
    }
   ],
   "source": [
    "poly = PolynomialFeatures() \n",
    "X_poly = poly.fit_transform(x_train) \n",
    "Xt_poly = poly.transform(x_test)\n",
    "tt=poly.fit_transform(test)\n",
    " \n",
    "lin2 = LinearRegression() \n",
    "lin2.fit(X_poly,y_train)"
   ]
  },
  {
   "cell_type": "code",
   "execution_count": 45,
   "metadata": {},
   "outputs": [
    {
     "data": {
      "text/plain": [
       "309.2316450193763"
      ]
     },
     "execution_count": 45,
     "metadata": {},
     "output_type": "execute_result"
    }
   ],
   "source": [
    "RMSE_train = np.sqrt(metrics.mean_squared_error(a,y_test))\n",
    "RMSE_train"
   ]
  },
  {
   "cell_type": "markdown",
   "metadata": {},
   "source": [
    "# Weather"
   ]
  },
  {
   "cell_type": "code",
   "execution_count": 46,
   "metadata": {},
   "outputs": [],
   "source": [
    "we=pd.read_csv(\"modified_weather.csv\")"
   ]
  },
  {
   "cell_type": "code",
   "execution_count": 47,
   "metadata": {},
   "outputs": [
    {
     "data": {
      "text/html": [
       "<div>\n",
       "<style scoped>\n",
       "    .dataframe tbody tr th:only-of-type {\n",
       "        vertical-align: middle;\n",
       "    }\n",
       "\n",
       "    .dataframe tbody tr th {\n",
       "        vertical-align: top;\n",
       "    }\n",
       "\n",
       "    .dataframe thead th {\n",
       "        text-align: right;\n",
       "    }\n",
       "</style>\n",
       "<table border=\"1\" class=\"dataframe\">\n",
       "  <thead>\n",
       "    <tr style=\"text-align: right;\">\n",
       "      <th></th>\n",
       "      <th>Year</th>\n",
       "      <th>Month</th>\n",
       "      <th>Temp avg (°C)</th>\n",
       "      <th>Dew Point avg (°C)</th>\n",
       "      <th>Humidity (%) avg</th>\n",
       "      <th>Sea Level Press. (hPa) avg</th>\n",
       "      <th>Visibility (km) avg</th>\n",
       "      <th>Wind (km/h) avg</th>\n",
       "      <th>Precip. (mm) sum</th>\n",
       "    </tr>\n",
       "  </thead>\n",
       "  <tbody>\n",
       "    <tr>\n",
       "      <th>0</th>\n",
       "      <td>2009</td>\n",
       "      <td>1</td>\n",
       "      <td>-2.033333</td>\n",
       "      <td>-9.766667</td>\n",
       "      <td>57.600000</td>\n",
       "      <td>1016.000000</td>\n",
       "      <td>13.933333</td>\n",
       "      <td>11.933333</td>\n",
       "      <td>2.911538</td>\n",
       "    </tr>\n",
       "    <tr>\n",
       "      <th>1</th>\n",
       "      <td>2009</td>\n",
       "      <td>2</td>\n",
       "      <td>2.785714</td>\n",
       "      <td>-6.392857</td>\n",
       "      <td>54.000000</td>\n",
       "      <td>1017.071429</td>\n",
       "      <td>15.178571</td>\n",
       "      <td>12.214286</td>\n",
       "      <td>0.840385</td>\n",
       "    </tr>\n",
       "    <tr>\n",
       "      <th>2</th>\n",
       "      <td>2009</td>\n",
       "      <td>3</td>\n",
       "      <td>0.376190</td>\n",
       "      <td>-8.079762</td>\n",
       "      <td>55.800000</td>\n",
       "      <td>1016.535714</td>\n",
       "      <td>14.555952</td>\n",
       "      <td>12.073810</td>\n",
       "      <td>1.875962</td>\n",
       "    </tr>\n",
       "    <tr>\n",
       "      <th>3</th>\n",
       "      <td>2009</td>\n",
       "      <td>4</td>\n",
       "      <td>12.896552</td>\n",
       "      <td>2.482759</td>\n",
       "      <td>54.758621</td>\n",
       "      <td>1014.310345</td>\n",
       "      <td>14.137931</td>\n",
       "      <td>11.379310</td>\n",
       "      <td>4.230000</td>\n",
       "    </tr>\n",
       "    <tr>\n",
       "      <th>4</th>\n",
       "      <td>2009</td>\n",
       "      <td>5</td>\n",
       "      <td>3.506281</td>\n",
       "      <td>-5.439132</td>\n",
       "      <td>55.539655</td>\n",
       "      <td>1015.979372</td>\n",
       "      <td>14.451447</td>\n",
       "      <td>11.900185</td>\n",
       "      <td>2.464471</td>\n",
       "    </tr>\n",
       "  </tbody>\n",
       "</table>\n",
       "</div>"
      ],
      "text/plain": [
       "   Year  Month  Temp avg (°C)  Dew Point avg (°C)  Humidity (%) avg  \\\n",
       "0  2009      1      -2.033333           -9.766667         57.600000   \n",
       "1  2009      2       2.785714           -6.392857         54.000000   \n",
       "2  2009      3       0.376190           -8.079762         55.800000   \n",
       "3  2009      4      12.896552            2.482759         54.758621   \n",
       "4  2009      5       3.506281           -5.439132         55.539655   \n",
       "\n",
       "   Sea Level Press. (hPa) avg  Visibility (km) avg  Wind (km/h) avg  \\\n",
       "0                 1016.000000            13.933333        11.933333   \n",
       "1                 1017.071429            15.178571        12.214286   \n",
       "2                 1016.535714            14.555952        12.073810   \n",
       "3                 1014.310345            14.137931        11.379310   \n",
       "4                 1015.979372            14.451447        11.900185   \n",
       "\n",
       "   Precip. (mm) sum  \n",
       "0          2.911538  \n",
       "1          0.840385  \n",
       "2          1.875962  \n",
       "3          4.230000  \n",
       "4          2.464471  "
      ]
     },
     "execution_count": 47,
     "metadata": {},
     "output_type": "execute_result"
    }
   ],
   "source": [
    "we.head()"
   ]
  },
  {
   "cell_type": "code",
   "execution_count": 48,
   "metadata": {},
   "outputs": [
    {
     "data": {
      "text/plain": [
       "array([2009, 2010, 2011, 2012, 2013, 2014, 2015])"
      ]
     },
     "execution_count": 48,
     "metadata": {},
     "output_type": "execute_result"
    }
   ],
   "source": [
    "we['Year'].unique()"
   ]
  },
  {
   "cell_type": "code",
   "execution_count": 49,
   "metadata": {},
   "outputs": [
    {
     "data": {
      "text/html": [
       "<div>\n",
       "<style scoped>\n",
       "    .dataframe tbody tr th:only-of-type {\n",
       "        vertical-align: middle;\n",
       "    }\n",
       "\n",
       "    .dataframe tbody tr th {\n",
       "        vertical-align: top;\n",
       "    }\n",
       "\n",
       "    .dataframe thead th {\n",
       "        text-align: right;\n",
       "    }\n",
       "</style>\n",
       "<table border=\"1\" class=\"dataframe\">\n",
       "  <thead>\n",
       "    <tr style=\"text-align: right;\">\n",
       "      <th></th>\n",
       "      <th>Year</th>\n",
       "      <th>Month</th>\n",
       "      <th>Sales(In ThousandDollars)</th>\n",
       "      <th>Monthly Nominal GDP Index (inMillion$)</th>\n",
       "      <th>Monthly Real GDP Index (inMillion$)</th>\n",
       "      <th>CPI</th>\n",
       "      <th>unemployment rate</th>\n",
       "      <th>CommercialBankInterestRateonCreditCardPlans</th>\n",
       "      <th>Finance Rate on Personal Loans at Commercial Banks, 24 Month Loan</th>\n",
       "      <th>Earnings or wages  in dollars per hour</th>\n",
       "      <th>Cotton Monthly Price - US cents per Pound(lbs)</th>\n",
       "      <th>Change(in%)</th>\n",
       "      <th>Average upland planted(million acres)</th>\n",
       "      <th>Average upland harvested(million acres)</th>\n",
       "      <th>yieldperharvested acre</th>\n",
       "      <th>Production (in  480-lb netweright in million bales)</th>\n",
       "      <th>Mill use  (in  480-lb netweright in million bales)</th>\n",
       "      <th>Exports</th>\n",
       "      <th>ProductCategory</th>\n",
       "    </tr>\n",
       "  </thead>\n",
       "  <tbody>\n",
       "    <tr>\n",
       "      <th>36</th>\n",
       "      <td>2009</td>\n",
       "      <td>1</td>\n",
       "      <td>1755.0</td>\n",
       "      <td>14421.752895</td>\n",
       "      <td>14407.053343</td>\n",
       "      <td>233.402</td>\n",
       "      <td>7.8</td>\n",
       "      <td>12.03</td>\n",
       "      <td>11.44</td>\n",
       "      <td>22.05</td>\n",
       "      <td>57.70</td>\n",
       "      <td>4.02</td>\n",
       "      <td>9.296</td>\n",
       "      <td>7.559</td>\n",
       "      <td>799</td>\n",
       "      <td>12.589</td>\n",
       "      <td>4.17</td>\n",
       "      <td>11.55</td>\n",
       "      <td>2</td>\n",
       "    </tr>\n",
       "    <tr>\n",
       "      <th>37</th>\n",
       "      <td>2009</td>\n",
       "      <td>1</td>\n",
       "      <td>524.0</td>\n",
       "      <td>14421.752895</td>\n",
       "      <td>14407.053343</td>\n",
       "      <td>233.402</td>\n",
       "      <td>7.8</td>\n",
       "      <td>12.03</td>\n",
       "      <td>11.44</td>\n",
       "      <td>22.05</td>\n",
       "      <td>57.70</td>\n",
       "      <td>4.02</td>\n",
       "      <td>9.296</td>\n",
       "      <td>7.559</td>\n",
       "      <td>799</td>\n",
       "      <td>12.589</td>\n",
       "      <td>4.17</td>\n",
       "      <td>11.55</td>\n",
       "      <td>0</td>\n",
       "    </tr>\n",
       "    <tr>\n",
       "      <th>38</th>\n",
       "      <td>2009</td>\n",
       "      <td>1</td>\n",
       "      <td>936.0</td>\n",
       "      <td>14421.752895</td>\n",
       "      <td>14407.053343</td>\n",
       "      <td>233.402</td>\n",
       "      <td>7.8</td>\n",
       "      <td>12.03</td>\n",
       "      <td>11.44</td>\n",
       "      <td>22.05</td>\n",
       "      <td>57.70</td>\n",
       "      <td>4.02</td>\n",
       "      <td>9.296</td>\n",
       "      <td>7.559</td>\n",
       "      <td>799</td>\n",
       "      <td>12.589</td>\n",
       "      <td>4.17</td>\n",
       "      <td>11.55</td>\n",
       "      <td>1</td>\n",
       "    </tr>\n",
       "    <tr>\n",
       "      <th>39</th>\n",
       "      <td>2009</td>\n",
       "      <td>2</td>\n",
       "      <td>1729.0</td>\n",
       "      <td>14389.200466</td>\n",
       "      <td>14366.176571</td>\n",
       "      <td>234.663</td>\n",
       "      <td>8.3</td>\n",
       "      <td>12.97</td>\n",
       "      <td>11.05</td>\n",
       "      <td>22.22</td>\n",
       "      <td>55.21</td>\n",
       "      <td>-4.32</td>\n",
       "      <td>9.296</td>\n",
       "      <td>7.559</td>\n",
       "      <td>799</td>\n",
       "      <td>12.589</td>\n",
       "      <td>3.87</td>\n",
       "      <td>11.10</td>\n",
       "      <td>2</td>\n",
       "    </tr>\n",
       "    <tr>\n",
       "      <th>40</th>\n",
       "      <td>2009</td>\n",
       "      <td>2</td>\n",
       "      <td>496.0</td>\n",
       "      <td>14389.200466</td>\n",
       "      <td>14366.176571</td>\n",
       "      <td>234.663</td>\n",
       "      <td>8.3</td>\n",
       "      <td>12.97</td>\n",
       "      <td>11.05</td>\n",
       "      <td>22.22</td>\n",
       "      <td>55.21</td>\n",
       "      <td>-4.32</td>\n",
       "      <td>9.296</td>\n",
       "      <td>7.559</td>\n",
       "      <td>799</td>\n",
       "      <td>12.589</td>\n",
       "      <td>3.87</td>\n",
       "      <td>11.10</td>\n",
       "      <td>0</td>\n",
       "    </tr>\n",
       "  </tbody>\n",
       "</table>\n",
       "</div>"
      ],
      "text/plain": [
       "    Year  Month  Sales(In ThousandDollars)  \\\n",
       "36  2009      1                     1755.0   \n",
       "37  2009      1                      524.0   \n",
       "38  2009      1                      936.0   \n",
       "39  2009      2                     1729.0   \n",
       "40  2009      2                      496.0   \n",
       "\n",
       "    Monthly Nominal GDP Index (inMillion$)  \\\n",
       "36                            14421.752895   \n",
       "37                            14421.752895   \n",
       "38                            14421.752895   \n",
       "39                            14389.200466   \n",
       "40                            14389.200466   \n",
       "\n",
       "    Monthly Real GDP Index (inMillion$)      CPI  unemployment rate  \\\n",
       "36                         14407.053343  233.402                7.8   \n",
       "37                         14407.053343  233.402                7.8   \n",
       "38                         14407.053343  233.402                7.8   \n",
       "39                         14366.176571  234.663                8.3   \n",
       "40                         14366.176571  234.663                8.3   \n",
       "\n",
       "    CommercialBankInterestRateonCreditCardPlans  \\\n",
       "36                                        12.03   \n",
       "37                                        12.03   \n",
       "38                                        12.03   \n",
       "39                                        12.97   \n",
       "40                                        12.97   \n",
       "\n",
       "    Finance Rate on Personal Loans at Commercial Banks, 24 Month Loan  \\\n",
       "36                                              11.44                   \n",
       "37                                              11.44                   \n",
       "38                                              11.44                   \n",
       "39                                              11.05                   \n",
       "40                                              11.05                   \n",
       "\n",
       "    Earnings or wages  in dollars per hour  \\\n",
       "36                                   22.05   \n",
       "37                                   22.05   \n",
       "38                                   22.05   \n",
       "39                                   22.22   \n",
       "40                                   22.22   \n",
       "\n",
       "    Cotton Monthly Price - US cents per Pound(lbs)  Change(in%)  \\\n",
       "36                                           57.70         4.02   \n",
       "37                                           57.70         4.02   \n",
       "38                                           57.70         4.02   \n",
       "39                                           55.21        -4.32   \n",
       "40                                           55.21        -4.32   \n",
       "\n",
       "    Average upland planted(million acres)  \\\n",
       "36                                  9.296   \n",
       "37                                  9.296   \n",
       "38                                  9.296   \n",
       "39                                  9.296   \n",
       "40                                  9.296   \n",
       "\n",
       "    Average upland harvested(million acres)  yieldperharvested acre  \\\n",
       "36                                    7.559                     799   \n",
       "37                                    7.559                     799   \n",
       "38                                    7.559                     799   \n",
       "39                                    7.559                     799   \n",
       "40                                    7.559                     799   \n",
       "\n",
       "    Production (in  480-lb netweright in million bales)  \\\n",
       "36                                             12.589     \n",
       "37                                             12.589     \n",
       "38                                             12.589     \n",
       "39                                             12.589     \n",
       "40                                             12.589     \n",
       "\n",
       "    Mill use  (in  480-lb netweright in million bales)  Exports  \\\n",
       "36                                               4.17     11.55   \n",
       "37                                               4.17     11.55   \n",
       "38                                               4.17     11.55   \n",
       "39                                               3.87     11.10   \n",
       "40                                               3.87     11.10   \n",
       "\n",
       "    ProductCategory  \n",
       "36                2  \n",
       "37                0  \n",
       "38                1  \n",
       "39                2  \n",
       "40                0  "
      ]
     },
     "execution_count": 49,
     "metadata": {},
     "output_type": "execute_result"
    }
   ],
   "source": [
    "train.head()"
   ]
  },
  {
   "cell_type": "code",
   "execution_count": 74,
   "metadata": {},
   "outputs": [],
   "source": [
    "all2=pd.merge(data,we)"
   ]
  },
  {
   "cell_type": "code",
   "execution_count": 75,
   "metadata": {},
   "outputs": [
    {
     "data": {
      "text/html": [
       "<div>\n",
       "<style scoped>\n",
       "    .dataframe tbody tr th:only-of-type {\n",
       "        vertical-align: middle;\n",
       "    }\n",
       "\n",
       "    .dataframe tbody tr th {\n",
       "        vertical-align: top;\n",
       "    }\n",
       "\n",
       "    .dataframe thead th {\n",
       "        text-align: right;\n",
       "    }\n",
       "</style>\n",
       "<table border=\"1\" class=\"dataframe\">\n",
       "  <thead>\n",
       "    <tr style=\"text-align: right;\">\n",
       "      <th></th>\n",
       "      <th>Year</th>\n",
       "      <th>Month</th>\n",
       "      <th>ProductCategory</th>\n",
       "      <th>Sales(In ThousandDollars)</th>\n",
       "    </tr>\n",
       "  </thead>\n",
       "  <tbody>\n",
       "    <tr>\n",
       "      <th>0</th>\n",
       "      <td>2015</td>\n",
       "      <td>1</td>\n",
       "      <td>WomenClothing</td>\n",
       "      <td>NaN</td>\n",
       "    </tr>\n",
       "    <tr>\n",
       "      <th>1</th>\n",
       "      <td>2015</td>\n",
       "      <td>1</td>\n",
       "      <td>MenClothing</td>\n",
       "      <td>NaN</td>\n",
       "    </tr>\n",
       "    <tr>\n",
       "      <th>2</th>\n",
       "      <td>2015</td>\n",
       "      <td>1</td>\n",
       "      <td>OtherClothing</td>\n",
       "      <td>NaN</td>\n",
       "    </tr>\n",
       "    <tr>\n",
       "      <th>3</th>\n",
       "      <td>2015</td>\n",
       "      <td>2</td>\n",
       "      <td>WomenClothing</td>\n",
       "      <td>NaN</td>\n",
       "    </tr>\n",
       "    <tr>\n",
       "      <th>4</th>\n",
       "      <td>2015</td>\n",
       "      <td>2</td>\n",
       "      <td>MenClothing</td>\n",
       "      <td>NaN</td>\n",
       "    </tr>\n",
       "  </tbody>\n",
       "</table>\n",
       "</div>"
      ],
      "text/plain": [
       "   Year  Month ProductCategory  Sales(In ThousandDollars)\n",
       "0  2015      1   WomenClothing                        NaN\n",
       "1  2015      1     MenClothing                        NaN\n",
       "2  2015      1   OtherClothing                        NaN\n",
       "3  2015      2   WomenClothing                        NaN\n",
       "4  2015      2     MenClothing                        NaN"
      ]
     },
     "execution_count": 75,
     "metadata": {},
     "output_type": "execute_result"
    }
   ],
   "source": [
    "all_.head()"
   ]
  },
  {
   "cell_type": "code",
   "execution_count": 76,
   "metadata": {},
   "outputs": [
    {
     "data": {
      "text/plain": [
       "Year                                                                  0\n",
       "Month                                                                 0\n",
       "Sales(In ThousandDollars)                                            36\n",
       "Monthly Nominal GDP Index (inMillion$)                                0\n",
       "Monthly Real GDP Index (inMillion$)                                   0\n",
       "CPI                                                                   0\n",
       "unemployment rate                                                     0\n",
       "CommercialBankInterestRateonCreditCardPlans                           0\n",
       "Finance Rate on Personal Loans at Commercial Banks, 24 Month Loan     0\n",
       "Earnings or wages  in dollars per hour                                0\n",
       "Cotton Monthly Price - US cents per Pound(lbs)                        0\n",
       "Change(in%)                                                           0\n",
       "Average upland planted(million acres)                                 0\n",
       "Average upland harvested(million acres)                               0\n",
       "yieldperharvested acre                                                0\n",
       "Production (in  480-lb netweright in million bales)                   0\n",
       "Mill use  (in  480-lb netweright in million bales)                    0\n",
       "Exports                                                               0\n",
       "ProductCategory                                                       0\n",
       "Temp avg (°C)                                                         0\n",
       "Dew Point avg (°C)                                                    0\n",
       "Humidity (%) avg                                                      0\n",
       "Sea Level Press. (hPa) avg                                            0\n",
       "Visibility (km) avg                                                   0\n",
       "Wind (km/h) avg                                                       0\n",
       "Precip. (mm) sum                                                      0\n",
       "dtype: int64"
      ]
     },
     "execution_count": 76,
     "metadata": {},
     "output_type": "execute_result"
    }
   ],
   "source": [
    "all2.isnull().sum()"
   ]
  },
  {
   "cell_type": "code",
   "execution_count": 77,
   "metadata": {},
   "outputs": [
    {
     "data": {
      "text/plain": [
       "(36, 26)"
      ]
     },
     "execution_count": 77,
     "metadata": {},
     "output_type": "execute_result"
    }
   ],
   "source": [
    "test1=all2.loc[:35,:]\n",
    "test1.shape"
   ]
  },
  {
   "cell_type": "code",
   "execution_count": 78,
   "metadata": {},
   "outputs": [
    {
     "data": {
      "text/plain": [
       "(204, 26)"
      ]
     },
     "execution_count": 78,
     "metadata": {},
     "output_type": "execute_result"
    }
   ],
   "source": [
    "train1=all2.loc[36:,:]\n",
    "train1.shape"
   ]
  },
  {
   "cell_type": "code",
   "execution_count": 79,
   "metadata": {},
   "outputs": [
    {
     "data": {
      "text/html": [
       "<div>\n",
       "<style scoped>\n",
       "    .dataframe tbody tr th:only-of-type {\n",
       "        vertical-align: middle;\n",
       "    }\n",
       "\n",
       "    .dataframe tbody tr th {\n",
       "        vertical-align: top;\n",
       "    }\n",
       "\n",
       "    .dataframe thead th {\n",
       "        text-align: right;\n",
       "    }\n",
       "</style>\n",
       "<table border=\"1\" class=\"dataframe\">\n",
       "  <thead>\n",
       "    <tr style=\"text-align: right;\">\n",
       "      <th></th>\n",
       "      <th>Year</th>\n",
       "      <th>Month</th>\n",
       "      <th>Sales(In ThousandDollars)</th>\n",
       "      <th>Monthly Nominal GDP Index (inMillion$)</th>\n",
       "      <th>Monthly Real GDP Index (inMillion$)</th>\n",
       "      <th>CPI</th>\n",
       "      <th>unemployment rate</th>\n",
       "      <th>CommercialBankInterestRateonCreditCardPlans</th>\n",
       "      <th>Finance Rate on Personal Loans at Commercial Banks, 24 Month Loan</th>\n",
       "      <th>Earnings or wages  in dollars per hour</th>\n",
       "      <th>...</th>\n",
       "      <th>Mill use  (in  480-lb netweright in million bales)</th>\n",
       "      <th>Exports</th>\n",
       "      <th>ProductCategory</th>\n",
       "      <th>Temp avg (°C)</th>\n",
       "      <th>Dew Point avg (°C)</th>\n",
       "      <th>Humidity (%) avg</th>\n",
       "      <th>Sea Level Press. (hPa) avg</th>\n",
       "      <th>Visibility (km) avg</th>\n",
       "      <th>Wind (km/h) avg</th>\n",
       "      <th>Precip. (mm) sum</th>\n",
       "    </tr>\n",
       "  </thead>\n",
       "  <tbody>\n",
       "    <tr>\n",
       "      <th>0</th>\n",
       "      <td>2015</td>\n",
       "      <td>1</td>\n",
       "      <td>NaN</td>\n",
       "      <td>17792.116953</td>\n",
       "      <td>16319.786314</td>\n",
       "      <td>258.376</td>\n",
       "      <td>5.7</td>\n",
       "      <td>11.99</td>\n",
       "      <td>10.47</td>\n",
       "      <td>24.88</td>\n",
       "      <td>...</td>\n",
       "      <td>3.775</td>\n",
       "      <td>9.45</td>\n",
       "      <td>2</td>\n",
       "      <td>-1.032258</td>\n",
       "      <td>-9.612903</td>\n",
       "      <td>53.645161</td>\n",
       "      <td>1019.387097</td>\n",
       "      <td>13.032258</td>\n",
       "      <td>11.677419</td>\n",
       "      <td>4.284839</td>\n",
       "    </tr>\n",
       "    <tr>\n",
       "      <th>1</th>\n",
       "      <td>2015</td>\n",
       "      <td>1</td>\n",
       "      <td>NaN</td>\n",
       "      <td>17792.116953</td>\n",
       "      <td>16319.786314</td>\n",
       "      <td>258.376</td>\n",
       "      <td>5.7</td>\n",
       "      <td>11.99</td>\n",
       "      <td>10.47</td>\n",
       "      <td>24.88</td>\n",
       "      <td>...</td>\n",
       "      <td>3.775</td>\n",
       "      <td>9.45</td>\n",
       "      <td>0</td>\n",
       "      <td>-1.032258</td>\n",
       "      <td>-9.612903</td>\n",
       "      <td>53.645161</td>\n",
       "      <td>1019.387097</td>\n",
       "      <td>13.032258</td>\n",
       "      <td>11.677419</td>\n",
       "      <td>4.284839</td>\n",
       "    </tr>\n",
       "    <tr>\n",
       "      <th>2</th>\n",
       "      <td>2015</td>\n",
       "      <td>1</td>\n",
       "      <td>NaN</td>\n",
       "      <td>17792.116953</td>\n",
       "      <td>16319.786314</td>\n",
       "      <td>258.376</td>\n",
       "      <td>5.7</td>\n",
       "      <td>11.99</td>\n",
       "      <td>10.47</td>\n",
       "      <td>24.88</td>\n",
       "      <td>...</td>\n",
       "      <td>3.775</td>\n",
       "      <td>9.45</td>\n",
       "      <td>1</td>\n",
       "      <td>-1.032258</td>\n",
       "      <td>-9.612903</td>\n",
       "      <td>53.645161</td>\n",
       "      <td>1019.387097</td>\n",
       "      <td>13.032258</td>\n",
       "      <td>11.677419</td>\n",
       "      <td>4.284839</td>\n",
       "    </tr>\n",
       "    <tr>\n",
       "      <th>3</th>\n",
       "      <td>2015</td>\n",
       "      <td>2</td>\n",
       "      <td>NaN</td>\n",
       "      <td>17931.046190</td>\n",
       "      <td>16400.926737</td>\n",
       "      <td>259.240</td>\n",
       "      <td>5.5</td>\n",
       "      <td>11.98</td>\n",
       "      <td>9.85</td>\n",
       "      <td>25.05</td>\n",
       "      <td>...</td>\n",
       "      <td>3.625</td>\n",
       "      <td>10.20</td>\n",
       "      <td>2</td>\n",
       "      <td>-4.250000</td>\n",
       "      <td>-12.428571</td>\n",
       "      <td>53.892857</td>\n",
       "      <td>1017.607143</td>\n",
       "      <td>13.428571</td>\n",
       "      <td>11.750000</td>\n",
       "      <td>2.072800</td>\n",
       "    </tr>\n",
       "    <tr>\n",
       "      <th>4</th>\n",
       "      <td>2015</td>\n",
       "      <td>2</td>\n",
       "      <td>NaN</td>\n",
       "      <td>17931.046190</td>\n",
       "      <td>16400.926737</td>\n",
       "      <td>259.240</td>\n",
       "      <td>5.5</td>\n",
       "      <td>11.98</td>\n",
       "      <td>9.85</td>\n",
       "      <td>25.05</td>\n",
       "      <td>...</td>\n",
       "      <td>3.625</td>\n",
       "      <td>10.20</td>\n",
       "      <td>0</td>\n",
       "      <td>-4.250000</td>\n",
       "      <td>-12.428571</td>\n",
       "      <td>53.892857</td>\n",
       "      <td>1017.607143</td>\n",
       "      <td>13.428571</td>\n",
       "      <td>11.750000</td>\n",
       "      <td>2.072800</td>\n",
       "    </tr>\n",
       "  </tbody>\n",
       "</table>\n",
       "<p>5 rows × 26 columns</p>\n",
       "</div>"
      ],
      "text/plain": [
       "   Year  Month  Sales(In ThousandDollars)  \\\n",
       "0  2015      1                        NaN   \n",
       "1  2015      1                        NaN   \n",
       "2  2015      1                        NaN   \n",
       "3  2015      2                        NaN   \n",
       "4  2015      2                        NaN   \n",
       "\n",
       "   Monthly Nominal GDP Index (inMillion$)  \\\n",
       "0                            17792.116953   \n",
       "1                            17792.116953   \n",
       "2                            17792.116953   \n",
       "3                            17931.046190   \n",
       "4                            17931.046190   \n",
       "\n",
       "   Monthly Real GDP Index (inMillion$)      CPI  unemployment rate  \\\n",
       "0                         16319.786314  258.376                5.7   \n",
       "1                         16319.786314  258.376                5.7   \n",
       "2                         16319.786314  258.376                5.7   \n",
       "3                         16400.926737  259.240                5.5   \n",
       "4                         16400.926737  259.240                5.5   \n",
       "\n",
       "   CommercialBankInterestRateonCreditCardPlans  \\\n",
       "0                                        11.99   \n",
       "1                                        11.99   \n",
       "2                                        11.99   \n",
       "3                                        11.98   \n",
       "4                                        11.98   \n",
       "\n",
       "   Finance Rate on Personal Loans at Commercial Banks, 24 Month Loan  \\\n",
       "0                                              10.47                   \n",
       "1                                              10.47                   \n",
       "2                                              10.47                   \n",
       "3                                               9.85                   \n",
       "4                                               9.85                   \n",
       "\n",
       "   Earnings or wages  in dollars per hour  ...  \\\n",
       "0                                   24.88  ...   \n",
       "1                                   24.88  ...   \n",
       "2                                   24.88  ...   \n",
       "3                                   25.05  ...   \n",
       "4                                   25.05  ...   \n",
       "\n",
       "   Mill use  (in  480-lb netweright in million bales)  Exports  \\\n",
       "0                                              3.775      9.45   \n",
       "1                                              3.775      9.45   \n",
       "2                                              3.775      9.45   \n",
       "3                                              3.625     10.20   \n",
       "4                                              3.625     10.20   \n",
       "\n",
       "   ProductCategory  Temp avg (°C)  Dew Point avg (°C)  Humidity (%) avg  \\\n",
       "0                2      -1.032258           -9.612903         53.645161   \n",
       "1                0      -1.032258           -9.612903         53.645161   \n",
       "2                1      -1.032258           -9.612903         53.645161   \n",
       "3                2      -4.250000          -12.428571         53.892857   \n",
       "4                0      -4.250000          -12.428571         53.892857   \n",
       "\n",
       "   Sea Level Press. (hPa) avg  Visibility (km) avg  Wind (km/h) avg  \\\n",
       "0                 1019.387097            13.032258        11.677419   \n",
       "1                 1019.387097            13.032258        11.677419   \n",
       "2                 1019.387097            13.032258        11.677419   \n",
       "3                 1017.607143            13.428571        11.750000   \n",
       "4                 1017.607143            13.428571        11.750000   \n",
       "\n",
       "   Precip. (mm) sum  \n",
       "0          4.284839  \n",
       "1          4.284839  \n",
       "2          4.284839  \n",
       "3          2.072800  \n",
       "4          2.072800  \n",
       "\n",
       "[5 rows x 26 columns]"
      ]
     },
     "execution_count": 79,
     "metadata": {},
     "output_type": "execute_result"
    }
   ],
   "source": [
    "test1.head()"
   ]
  },
  {
   "cell_type": "code",
   "execution_count": 80,
   "metadata": {},
   "outputs": [
    {
     "data": {
      "text/plain": [
       "Index(['Year', 'Month', 'Sales(In ThousandDollars)',\n",
       "       'Monthly Nominal GDP Index (inMillion$)',\n",
       "       'Monthly Real GDP Index (inMillion$)', 'CPI', 'unemployment rate',\n",
       "       'CommercialBankInterestRateonCreditCardPlans',\n",
       "       'Finance Rate on Personal Loans at Commercial Banks, 24 Month Loan',\n",
       "       'Earnings or wages  in dollars per hour',\n",
       "       'Cotton Monthly Price - US cents per Pound(lbs)', 'Change(in%)',\n",
       "       'Average upland planted(million acres)',\n",
       "       'Average upland harvested(million acres)', 'yieldperharvested acre',\n",
       "       'Production (in  480-lb netweright in million bales)',\n",
       "       'Mill use  (in  480-lb netweright in million bales)', 'Exports',\n",
       "       'ProductCategory', 'Temp avg (°C)', 'Dew Point avg (°C)',\n",
       "       'Humidity (%) avg', 'Sea Level Press. (hPa) avg', 'Visibility (km) avg',\n",
       "       'Wind (km/h) avg', 'Precip. (mm) sum'],\n",
       "      dtype='object')"
      ]
     },
     "execution_count": 80,
     "metadata": {},
     "output_type": "execute_result"
    }
   ],
   "source": [
    "test1.columns"
   ]
  },
  {
   "cell_type": "code",
   "execution_count": 81,
   "metadata": {},
   "outputs": [],
   "source": [
    "ProductCategory=lb.fit_transform(all2['ProductCategory'])\n",
    "all2.drop('ProductCategory',axis=1,inplace=True)\n",
    "all2['ProductCategory']=ProductCategory"
   ]
  },
  {
   "cell_type": "code",
   "execution_count": 82,
   "metadata": {},
   "outputs": [],
   "source": [
    "x=train.drop('Sales(In ThousandDollars)',axis=1)\n",
    "y=train['Sales(In ThousandDollars)']\n",
    "\n",
    "x_train,x_test,y_train,y_test=train_test_split(x,y,test_size=0.3,random_state=30)"
   ]
  },
  {
   "cell_type": "code",
   "execution_count": 83,
   "metadata": {},
   "outputs": [],
   "source": [
    "tt=train1.drop(['Sales(In ThousandDollars)'],axis=1)\n",
    "sc_train=pd.DataFrame(sc.fit_transform(tt))\n",
    "ts=test1.drop(['Sales(In ThousandDollars)'],axis=1)\n",
    "sc_test=pd.DataFrame(sc.transform(ts))"
   ]
  },
  {
   "cell_type": "code",
   "execution_count": 84,
   "metadata": {},
   "outputs": [],
   "source": [
    "sc_train.columns=['Year', 'Month', 'Monthly Nominal GDP Index (inMillion$)',\n",
    "       'Monthly Real GDP Index (inMillion$)', 'CPI', 'unemployment rate',\n",
    "       'CommercialBankInterestRateonCreditCardPlans',\n",
    "       'Finance Rate on Personal Loans at Commercial Banks, 24 Month Loan',\n",
    "       'Earnings or wages  in dollars per hour',\n",
    "       'Cotton Monthly Price - US cents per Pound(lbs)', 'Change(in%)',\n",
    "       'Average upland planted(million acres)',\n",
    "       'Average upland harvested(million acres)', 'yieldperharvested acre',\n",
    "       'Production (in  480-lb netweright in million bales)',\n",
    "       'Mill use  (in  480-lb netweright in million bales)', 'Exports',\n",
    "       'ProductCategory', 'Temp avg (°C)',\n",
    "       'Dew Point avg (°C)', 'Humidity (%) avg', 'Sea Level Press. (hPa) avg',\n",
    "       'Visibility (km) avg', 'Wind (km/h) avg', 'Precip. (mm) sum']\n",
    "\n",
    "\n",
    "sc_test.columns=['Year', 'Month', 'Monthly Nominal GDP Index (inMillion$)',\n",
    "       'Monthly Real GDP Index (inMillion$)', 'CPI', 'unemployment rate',\n",
    "       'CommercialBankInterestRateonCreditCardPlans',\n",
    "       'Finance Rate on Personal Loans at Commercial Banks, 24 Month Loan',\n",
    "       'Earnings or wages  in dollars per hour',\n",
    "       'Cotton Monthly Price - US cents per Pound(lbs)', 'Change(in%)',\n",
    "       'Average upland planted(million acres)',\n",
    "       'Average upland harvested(million acres)', 'yieldperharvested acre',\n",
    "       'Production (in  480-lb netweright in million bales)',\n",
    "       'Mill use  (in  480-lb netweright in million bales)', 'Exports',\n",
    "       'ProductCategory', 'Temp avg (°C)',\n",
    "       'Dew Point avg (°C)', 'Humidity (%) avg', 'Sea Level Press. (hPa) avg',\n",
    "       'Visibility (km) avg', 'Wind (km/h) avg', 'Precip. (mm) sum']"
   ]
  },
  {
   "cell_type": "code",
   "execution_count": 85,
   "metadata": {},
   "outputs": [],
   "source": [
    "sc_train['series']=np.arange(1,205)"
   ]
  },
  {
   "cell_type": "code",
   "execution_count": 86,
   "metadata": {},
   "outputs": [],
   "source": [
    "con_tr=pd.DataFrame(train1[['Sales(In ThousandDollars)']])\n",
    "con_tr['series']=np.arange(1,205)\n",
    "con_ts=pd.DataFrame(test1[['Sales(In ThousandDollars)']])\n",
    "con_ts['series']=np.arange(1,37)\n",
    "\n",
    "sc_test['series']=np.arange(1,37)\n",
    "                        "
   ]
  },
  {
   "cell_type": "code",
   "execution_count": 90,
   "metadata": {},
   "outputs": [],
   "source": [
    "test3.drop('Sales(In ThousandDollars)',axis=1,inplace=True)"
   ]
  },
  {
   "cell_type": "code",
   "execution_count": 88,
   "metadata": {},
   "outputs": [],
   "source": [
    "train3=pd.merge(sc_train,con_tr)\n",
    "test3=pd.merge(sc_test,con_ts)"
   ]
  },
  {
   "cell_type": "code",
   "execution_count": 89,
   "metadata": {},
   "outputs": [],
   "source": [
    "train3=train3.drop('series',axis=1)\n",
    "test3=test3.drop('series',axis=1)"
   ]
  },
  {
   "cell_type": "markdown",
   "metadata": {},
   "source": [
    "# Building models combing different data sets togeather"
   ]
  },
  {
   "cell_type": "code",
   "execution_count": 91,
   "metadata": {},
   "outputs": [],
   "source": [
    "from sklearn.ensemble import RandomForestRegressor\n",
    "RF=RandomForestRegressor()"
   ]
  },
  {
   "cell_type": "code",
   "execution_count": 165,
   "metadata": {},
   "outputs": [],
   "source": [
    "x=train3.drop('Sales(In ThousandDollars)',axis=1)\n",
    "y=train3['Sales(In ThousandDollars)']\n",
    "\n",
    "x_train,x_test,y_train,y_test=train_test_split(x,y,test_size=0.3,random_state=10)"
   ]
  },
  {
   "cell_type": "code",
   "execution_count": 96,
   "metadata": {},
   "outputs": [],
   "source": [
    "RF.fit(x_train,y_train)\n",
    "w=RF.predict(x_test)"
   ]
  },
  {
   "cell_type": "code",
   "execution_count": 97,
   "metadata": {},
   "outputs": [
    {
     "data": {
      "text/plain": [
       "302.21516955586037"
      ]
     },
     "execution_count": 97,
     "metadata": {},
     "output_type": "execute_result"
    }
   ],
   "source": [
    "RMSE_train = np.sqrt(metrics.mean_squared_error(w,y_test))\n",
    "RMSE_train"
   ]
  },
  {
   "cell_type": "markdown",
   "metadata": {},
   "source": [
    "# Decesion tree"
   ]
  },
  {
   "cell_type": "code",
   "execution_count": 168,
   "metadata": {},
   "outputs": [],
   "source": [
    "from sklearn.tree import DecisionTreeRegressor\n",
    "dt=DecisionTreeRegressor()\n",
    "dt.fit(x_train,y_train)\n",
    "d=dt.predict(x_test)"
   ]
  },
  {
   "cell_type": "code",
   "execution_count": 169,
   "metadata": {},
   "outputs": [],
   "source": [
    "pca = PCA(n_components = 23,random_state=10) \n",
    "  \n",
    "pcatr = pd.DataFrame(pca.fit_transform(sc_train))\n",
    "pcats = pd.DataFrame(pca.transform(sc_test))\n",
    "  \n"
   ]
  },
  {
   "cell_type": "code",
   "execution_count": 170,
   "metadata": {},
   "outputs": [
    {
     "data": {
      "text/html": [
       "<div>\n",
       "<style scoped>\n",
       "    .dataframe tbody tr th:only-of-type {\n",
       "        vertical-align: middle;\n",
       "    }\n",
       "\n",
       "    .dataframe tbody tr th {\n",
       "        vertical-align: top;\n",
       "    }\n",
       "\n",
       "    .dataframe thead th {\n",
       "        text-align: right;\n",
       "    }\n",
       "</style>\n",
       "<table border=\"1\" class=\"dataframe\">\n",
       "  <thead>\n",
       "    <tr style=\"text-align: right;\">\n",
       "      <th></th>\n",
       "      <th>0</th>\n",
       "      <th>1</th>\n",
       "      <th>2</th>\n",
       "      <th>3</th>\n",
       "      <th>4</th>\n",
       "      <th>5</th>\n",
       "      <th>6</th>\n",
       "      <th>7</th>\n",
       "      <th>8</th>\n",
       "      <th>9</th>\n",
       "      <th>...</th>\n",
       "      <th>13</th>\n",
       "      <th>14</th>\n",
       "      <th>15</th>\n",
       "      <th>16</th>\n",
       "      <th>17</th>\n",
       "      <th>18</th>\n",
       "      <th>19</th>\n",
       "      <th>20</th>\n",
       "      <th>21</th>\n",
       "      <th>22</th>\n",
       "    </tr>\n",
       "  </thead>\n",
       "  <tbody>\n",
       "    <tr>\n",
       "      <th>0</th>\n",
       "      <td>-101.184921</td>\n",
       "      <td>-2.759131</td>\n",
       "      <td>-0.128359</td>\n",
       "      <td>0.403485</td>\n",
       "      <td>3.838479</td>\n",
       "      <td>-1.558323</td>\n",
       "      <td>-0.833230</td>\n",
       "      <td>1.110104</td>\n",
       "      <td>1.521193</td>\n",
       "      <td>-0.978135</td>\n",
       "      <td>...</td>\n",
       "      <td>-1.487902</td>\n",
       "      <td>-2.111050</td>\n",
       "      <td>1.201921</td>\n",
       "      <td>-0.095914</td>\n",
       "      <td>-2.767380</td>\n",
       "      <td>-2.539495</td>\n",
       "      <td>5.392925</td>\n",
       "      <td>-0.393276</td>\n",
       "      <td>-3.409195</td>\n",
       "      <td>0.112092</td>\n",
       "    </tr>\n",
       "    <tr>\n",
       "      <th>1</th>\n",
       "      <td>-100.186123</td>\n",
       "      <td>-2.794291</td>\n",
       "      <td>-0.135139</td>\n",
       "      <td>0.452184</td>\n",
       "      <td>3.855601</td>\n",
       "      <td>-1.282369</td>\n",
       "      <td>0.498823</td>\n",
       "      <td>-0.906886</td>\n",
       "      <td>1.666338</td>\n",
       "      <td>-0.931771</td>\n",
       "      <td>...</td>\n",
       "      <td>-1.504260</td>\n",
       "      <td>-2.105381</td>\n",
       "      <td>1.200491</td>\n",
       "      <td>-0.087580</td>\n",
       "      <td>-2.776951</td>\n",
       "      <td>-2.534515</td>\n",
       "      <td>5.379537</td>\n",
       "      <td>-0.390987</td>\n",
       "      <td>-3.405982</td>\n",
       "      <td>0.111440</td>\n",
       "    </tr>\n",
       "    <tr>\n",
       "      <th>2</th>\n",
       "      <td>-99.187170</td>\n",
       "      <td>-2.778226</td>\n",
       "      <td>-0.123095</td>\n",
       "      <td>0.434985</td>\n",
       "      <td>3.832324</td>\n",
       "      <td>-1.408580</td>\n",
       "      <td>-0.164511</td>\n",
       "      <td>0.102807</td>\n",
       "      <td>1.577360</td>\n",
       "      <td>-0.946919</td>\n",
       "      <td>...</td>\n",
       "      <td>-1.497291</td>\n",
       "      <td>-2.093750</td>\n",
       "      <td>1.199894</td>\n",
       "      <td>-0.087720</td>\n",
       "      <td>-2.751016</td>\n",
       "      <td>-2.516404</td>\n",
       "      <td>5.347459</td>\n",
       "      <td>-0.388228</td>\n",
       "      <td>-3.381179</td>\n",
       "      <td>0.111418</td>\n",
       "    </tr>\n",
       "    <tr>\n",
       "      <th>3</th>\n",
       "      <td>-98.168206</td>\n",
       "      <td>-3.169568</td>\n",
       "      <td>0.604819</td>\n",
       "      <td>-0.063670</td>\n",
       "      <td>2.480605</td>\n",
       "      <td>-1.443778</td>\n",
       "      <td>-0.737800</td>\n",
       "      <td>1.175605</td>\n",
       "      <td>1.942068</td>\n",
       "      <td>-1.613692</td>\n",
       "      <td>...</td>\n",
       "      <td>-0.915096</td>\n",
       "      <td>-2.427351</td>\n",
       "      <td>1.235994</td>\n",
       "      <td>-0.606331</td>\n",
       "      <td>-2.753303</td>\n",
       "      <td>-2.930561</td>\n",
       "      <td>5.547586</td>\n",
       "      <td>-0.403873</td>\n",
       "      <td>-3.474506</td>\n",
       "      <td>-0.019654</td>\n",
       "    </tr>\n",
       "    <tr>\n",
       "      <th>4</th>\n",
       "      <td>-97.169408</td>\n",
       "      <td>-3.204728</td>\n",
       "      <td>0.598039</td>\n",
       "      <td>-0.014970</td>\n",
       "      <td>2.497727</td>\n",
       "      <td>-1.167824</td>\n",
       "      <td>0.594253</td>\n",
       "      <td>-0.841385</td>\n",
       "      <td>2.087214</td>\n",
       "      <td>-1.567328</td>\n",
       "      <td>...</td>\n",
       "      <td>-0.931454</td>\n",
       "      <td>-2.421682</td>\n",
       "      <td>1.234565</td>\n",
       "      <td>-0.597997</td>\n",
       "      <td>-2.762874</td>\n",
       "      <td>-2.925581</td>\n",
       "      <td>5.534199</td>\n",
       "      <td>-0.401584</td>\n",
       "      <td>-3.471293</td>\n",
       "      <td>-0.020306</td>\n",
       "    </tr>\n",
       "  </tbody>\n",
       "</table>\n",
       "<p>5 rows × 23 columns</p>\n",
       "</div>"
      ],
      "text/plain": [
       "           0         1         2         3         4         5         6   \\\n",
       "0 -101.184921 -2.759131 -0.128359  0.403485  3.838479 -1.558323 -0.833230   \n",
       "1 -100.186123 -2.794291 -0.135139  0.452184  3.855601 -1.282369  0.498823   \n",
       "2  -99.187170 -2.778226 -0.123095  0.434985  3.832324 -1.408580 -0.164511   \n",
       "3  -98.168206 -3.169568  0.604819 -0.063670  2.480605 -1.443778 -0.737800   \n",
       "4  -97.169408 -3.204728  0.598039 -0.014970  2.497727 -1.167824  0.594253   \n",
       "\n",
       "         7         8         9   ...        13        14        15        16  \\\n",
       "0  1.110104  1.521193 -0.978135  ... -1.487902 -2.111050  1.201921 -0.095914   \n",
       "1 -0.906886  1.666338 -0.931771  ... -1.504260 -2.105381  1.200491 -0.087580   \n",
       "2  0.102807  1.577360 -0.946919  ... -1.497291 -2.093750  1.199894 -0.087720   \n",
       "3  1.175605  1.942068 -1.613692  ... -0.915096 -2.427351  1.235994 -0.606331   \n",
       "4 -0.841385  2.087214 -1.567328  ... -0.931454 -2.421682  1.234565 -0.597997   \n",
       "\n",
       "         17        18        19        20        21        22  \n",
       "0 -2.767380 -2.539495  5.392925 -0.393276 -3.409195  0.112092  \n",
       "1 -2.776951 -2.534515  5.379537 -0.390987 -3.405982  0.111440  \n",
       "2 -2.751016 -2.516404  5.347459 -0.388228 -3.381179  0.111418  \n",
       "3 -2.753303 -2.930561  5.547586 -0.403873 -3.474506 -0.019654  \n",
       "4 -2.762874 -2.925581  5.534199 -0.401584 -3.471293 -0.020306  \n",
       "\n",
       "[5 rows x 23 columns]"
      ]
     },
     "execution_count": 170,
     "metadata": {},
     "output_type": "execute_result"
    }
   ],
   "source": [
    "pcats.head()"
   ]
  },
  {
   "cell_type": "code",
   "execution_count": null,
   "metadata": {},
   "outputs": [],
   "source": []
  },
  {
   "cell_type": "code",
   "execution_count": 171,
   "metadata": {},
   "outputs": [],
   "source": [
    "pcatr.columns=['Monthly Nominal GDP Index (inMillion$)',\n",
    "       'Monthly Real GDP Index (inMillion$)', 'CPI', 'unemployment rate',\n",
    "       'CommercialBankInterestRateonCreditCardPlans',\n",
    "       'Finance Rate on Personal Loans at Commercial Banks, 24 Month Loan',\n",
    "       'Earnings or wages  in dollars per hour',\n",
    "       'Cotton Monthly Price - US cents per Pound(lbs)', 'Change(in%)',\n",
    "       'Average upland planted(million acres)',\n",
    "       'Average upland harvested(million acres)', 'yieldperharvested acre',\n",
    "       'Production (in  480-lb netweright in million bales)',\n",
    "       'Mill use  (in  480-lb netweright in million bales)', 'Exports',\n",
    "       'ProductCategory', 'Temp avg (°C)',\n",
    "       'Dew Point avg (°C)', 'Humidity (%) avg', 'Sea Level Press. (hPa) avg',\n",
    "       'Visibility (km) avg', 'Wind (km/h) avg', 'Precip. (mm) sum']\n",
    "\n",
    "pcats.columns=['Monthly Nominal GDP Index (inMillion$)',\n",
    "       'Monthly Real GDP Index (inMillion$)', 'CPI', 'unemployment rate',\n",
    "       'CommercialBankInterestRateonCreditCardPlans',\n",
    "       'Finance Rate on Personal Loans at Commercial Banks, 24 Month Loan',\n",
    "       'Earnings or wages  in dollars per hour',\n",
    "       'Cotton Monthly Price - US cents per Pound(lbs)', 'Change(in%)',\n",
    "       'Average upland planted(million acres)',\n",
    "       'Average upland harvested(million acres)', 'yieldperharvested acre',\n",
    "       'Production (in  480-lb netweright in million bales)',\n",
    "       'Mill use  (in  480-lb netweright in million bales)', 'Exports',\n",
    "       'ProductCategory', 'Temp avg (°C)',\n",
    "       'Dew Point avg (°C)', 'Humidity (%) avg', 'Sea Level Press. (hPa) avg',\n",
    "       'Visibility (km) avg', 'Wind (km/h) avg', 'Precip. (mm) sum']"
   ]
  },
  {
   "cell_type": "code",
   "execution_count": 172,
   "metadata": {},
   "outputs": [],
   "source": [
    "pcatr['series']=np.arange(1,205)\n",
    "pca_tr=pd.DataFrame(train1[['Sales(In ThousandDollars)','Year','Month']])\n",
    "pca_tr['series']=np.arange(1,205)\n",
    "pca_ts=pd.DataFrame(test1[['Sales(In ThousandDollars)','Year','Month']])\n",
    "pca_ts['series']=np.arange(1,37)\n",
    "\n",
    "pcats['series']=np.arange(1,37)\n",
    "\n",
    "train4=pd.merge(pcatr,pca_tr)\n",
    "test4=pd.merge(pcats,pca_ts)\n",
    "\n",
    "train4=train4.drop('series',axis=1)\n",
    "test4=test4.drop('series',axis=1)\n",
    "                        "
   ]
  },
  {
   "cell_type": "code",
   "execution_count": 173,
   "metadata": {},
   "outputs": [
    {
     "data": {
      "text/html": [
       "<div>\n",
       "<style scoped>\n",
       "    .dataframe tbody tr th:only-of-type {\n",
       "        vertical-align: middle;\n",
       "    }\n",
       "\n",
       "    .dataframe tbody tr th {\n",
       "        vertical-align: top;\n",
       "    }\n",
       "\n",
       "    .dataframe thead th {\n",
       "        text-align: right;\n",
       "    }\n",
       "</style>\n",
       "<table border=\"1\" class=\"dataframe\">\n",
       "  <thead>\n",
       "    <tr style=\"text-align: right;\">\n",
       "      <th></th>\n",
       "      <th>Monthly Nominal GDP Index (inMillion$)</th>\n",
       "      <th>Monthly Real GDP Index (inMillion$)</th>\n",
       "      <th>CPI</th>\n",
       "      <th>unemployment rate</th>\n",
       "      <th>CommercialBankInterestRateonCreditCardPlans</th>\n",
       "      <th>Finance Rate on Personal Loans at Commercial Banks, 24 Month Loan</th>\n",
       "      <th>Earnings or wages  in dollars per hour</th>\n",
       "      <th>Cotton Monthly Price - US cents per Pound(lbs)</th>\n",
       "      <th>Change(in%)</th>\n",
       "      <th>Average upland planted(million acres)</th>\n",
       "      <th>...</th>\n",
       "      <th>Temp avg (°C)</th>\n",
       "      <th>Dew Point avg (°C)</th>\n",
       "      <th>Humidity (%) avg</th>\n",
       "      <th>Sea Level Press. (hPa) avg</th>\n",
       "      <th>Visibility (km) avg</th>\n",
       "      <th>Wind (km/h) avg</th>\n",
       "      <th>Precip. (mm) sum</th>\n",
       "      <th>Sales(In ThousandDollars)</th>\n",
       "      <th>Year</th>\n",
       "      <th>Month</th>\n",
       "    </tr>\n",
       "  </thead>\n",
       "  <tbody>\n",
       "    <tr>\n",
       "      <th>0</th>\n",
       "      <td>-101.546655</td>\n",
       "      <td>-3.127262</td>\n",
       "      <td>-0.464363</td>\n",
       "      <td>0.846905</td>\n",
       "      <td>2.985293</td>\n",
       "      <td>-2.692161</td>\n",
       "      <td>-1.979710</td>\n",
       "      <td>0.010151</td>\n",
       "      <td>-0.043188</td>\n",
       "      <td>-0.400811</td>\n",
       "      <td>...</td>\n",
       "      <td>-0.020132</td>\n",
       "      <td>-0.040563</td>\n",
       "      <td>-0.046636</td>\n",
       "      <td>0.052245</td>\n",
       "      <td>0.167160</td>\n",
       "      <td>0.047211</td>\n",
       "      <td>0.015214</td>\n",
       "      <td>1755.0</td>\n",
       "      <td>2009</td>\n",
       "      <td>1</td>\n",
       "    </tr>\n",
       "    <tr>\n",
       "      <th>1</th>\n",
       "      <td>-100.547857</td>\n",
       "      <td>-3.162422</td>\n",
       "      <td>-0.471143</td>\n",
       "      <td>0.895605</td>\n",
       "      <td>3.002415</td>\n",
       "      <td>-2.416207</td>\n",
       "      <td>-0.647658</td>\n",
       "      <td>-2.006839</td>\n",
       "      <td>0.101958</td>\n",
       "      <td>-0.354447</td>\n",
       "      <td>...</td>\n",
       "      <td>-0.011798</td>\n",
       "      <td>-0.050134</td>\n",
       "      <td>-0.041656</td>\n",
       "      <td>0.038857</td>\n",
       "      <td>0.169450</td>\n",
       "      <td>0.050424</td>\n",
       "      <td>0.014562</td>\n",
       "      <td>524.0</td>\n",
       "      <td>2009</td>\n",
       "      <td>1</td>\n",
       "    </tr>\n",
       "    <tr>\n",
       "      <th>2</th>\n",
       "      <td>-99.548904</td>\n",
       "      <td>-3.146357</td>\n",
       "      <td>-0.459099</td>\n",
       "      <td>0.878405</td>\n",
       "      <td>2.979138</td>\n",
       "      <td>-2.542418</td>\n",
       "      <td>-1.310992</td>\n",
       "      <td>-0.997146</td>\n",
       "      <td>0.012980</td>\n",
       "      <td>-0.369595</td>\n",
       "      <td>...</td>\n",
       "      <td>-0.011938</td>\n",
       "      <td>-0.024199</td>\n",
       "      <td>-0.023545</td>\n",
       "      <td>0.006779</td>\n",
       "      <td>0.172208</td>\n",
       "      <td>0.075228</td>\n",
       "      <td>0.014540</td>\n",
       "      <td>936.0</td>\n",
       "      <td>2009</td>\n",
       "      <td>1</td>\n",
       "    </tr>\n",
       "    <tr>\n",
       "      <th>3</th>\n",
       "      <td>-98.549578</td>\n",
       "      <td>-3.278094</td>\n",
       "      <td>-0.641249</td>\n",
       "      <td>-0.958896</td>\n",
       "      <td>1.824293</td>\n",
       "      <td>-2.557284</td>\n",
       "      <td>-1.070536</td>\n",
       "      <td>0.495572</td>\n",
       "      <td>0.031812</td>\n",
       "      <td>-0.313709</td>\n",
       "      <td>...</td>\n",
       "      <td>-0.090925</td>\n",
       "      <td>-0.111189</td>\n",
       "      <td>-0.185060</td>\n",
       "      <td>0.050588</td>\n",
       "      <td>-0.146973</td>\n",
       "      <td>-0.048482</td>\n",
       "      <td>-0.020567</td>\n",
       "      <td>1729.0</td>\n",
       "      <td>2009</td>\n",
       "      <td>2</td>\n",
       "    </tr>\n",
       "    <tr>\n",
       "      <th>4</th>\n",
       "      <td>-97.550780</td>\n",
       "      <td>-3.313254</td>\n",
       "      <td>-0.648030</td>\n",
       "      <td>-0.910197</td>\n",
       "      <td>1.841415</td>\n",
       "      <td>-2.281330</td>\n",
       "      <td>0.261516</td>\n",
       "      <td>-1.521418</td>\n",
       "      <td>0.176957</td>\n",
       "      <td>-0.267345</td>\n",
       "      <td>...</td>\n",
       "      <td>-0.082591</td>\n",
       "      <td>-0.120760</td>\n",
       "      <td>-0.180080</td>\n",
       "      <td>0.037200</td>\n",
       "      <td>-0.144683</td>\n",
       "      <td>-0.045269</td>\n",
       "      <td>-0.021219</td>\n",
       "      <td>496.0</td>\n",
       "      <td>2009</td>\n",
       "      <td>2</td>\n",
       "    </tr>\n",
       "  </tbody>\n",
       "</table>\n",
       "<p>5 rows × 26 columns</p>\n",
       "</div>"
      ],
      "text/plain": [
       "   Monthly Nominal GDP Index (inMillion$)  \\\n",
       "0                             -101.546655   \n",
       "1                             -100.547857   \n",
       "2                              -99.548904   \n",
       "3                              -98.549578   \n",
       "4                              -97.550780   \n",
       "\n",
       "   Monthly Real GDP Index (inMillion$)       CPI  unemployment rate  \\\n",
       "0                            -3.127262 -0.464363           0.846905   \n",
       "1                            -3.162422 -0.471143           0.895605   \n",
       "2                            -3.146357 -0.459099           0.878405   \n",
       "3                            -3.278094 -0.641249          -0.958896   \n",
       "4                            -3.313254 -0.648030          -0.910197   \n",
       "\n",
       "   CommercialBankInterestRateonCreditCardPlans  \\\n",
       "0                                     2.985293   \n",
       "1                                     3.002415   \n",
       "2                                     2.979138   \n",
       "3                                     1.824293   \n",
       "4                                     1.841415   \n",
       "\n",
       "   Finance Rate on Personal Loans at Commercial Banks, 24 Month Loan  \\\n",
       "0                                          -2.692161                   \n",
       "1                                          -2.416207                   \n",
       "2                                          -2.542418                   \n",
       "3                                          -2.557284                   \n",
       "4                                          -2.281330                   \n",
       "\n",
       "   Earnings or wages  in dollars per hour  \\\n",
       "0                               -1.979710   \n",
       "1                               -0.647658   \n",
       "2                               -1.310992   \n",
       "3                               -1.070536   \n",
       "4                                0.261516   \n",
       "\n",
       "   Cotton Monthly Price - US cents per Pound(lbs)  Change(in%)  \\\n",
       "0                                        0.010151    -0.043188   \n",
       "1                                       -2.006839     0.101958   \n",
       "2                                       -0.997146     0.012980   \n",
       "3                                        0.495572     0.031812   \n",
       "4                                       -1.521418     0.176957   \n",
       "\n",
       "   Average upland planted(million acres)  ...  Temp avg (°C)  \\\n",
       "0                              -0.400811  ...      -0.020132   \n",
       "1                              -0.354447  ...      -0.011798   \n",
       "2                              -0.369595  ...      -0.011938   \n",
       "3                              -0.313709  ...      -0.090925   \n",
       "4                              -0.267345  ...      -0.082591   \n",
       "\n",
       "   Dew Point avg (°C)  Humidity (%) avg  Sea Level Press. (hPa) avg  \\\n",
       "0           -0.040563         -0.046636                    0.052245   \n",
       "1           -0.050134         -0.041656                    0.038857   \n",
       "2           -0.024199         -0.023545                    0.006779   \n",
       "3           -0.111189         -0.185060                    0.050588   \n",
       "4           -0.120760         -0.180080                    0.037200   \n",
       "\n",
       "   Visibility (km) avg  Wind (km/h) avg  Precip. (mm) sum  \\\n",
       "0             0.167160         0.047211          0.015214   \n",
       "1             0.169450         0.050424          0.014562   \n",
       "2             0.172208         0.075228          0.014540   \n",
       "3            -0.146973        -0.048482         -0.020567   \n",
       "4            -0.144683        -0.045269         -0.021219   \n",
       "\n",
       "   Sales(In ThousandDollars)  Year  Month  \n",
       "0                     1755.0  2009      1  \n",
       "1                      524.0  2009      1  \n",
       "2                      936.0  2009      1  \n",
       "3                     1729.0  2009      2  \n",
       "4                      496.0  2009      2  \n",
       "\n",
       "[5 rows x 26 columns]"
      ]
     },
     "execution_count": 173,
     "metadata": {},
     "output_type": "execute_result"
    }
   ],
   "source": [
    "train4.head()"
   ]
  },
  {
   "cell_type": "code",
   "execution_count": 174,
   "metadata": {},
   "outputs": [],
   "source": [
    "x=train4.drop('Sales(In ThousandDollars)',axis=1)\n",
    "y=train4['Sales(In ThousandDollars)']\n",
    "\n",
    "x_train_pca,x_test_pca,y_train_pca,y_test_pca=train_test_split(x,y,test_size=0.2,random_state=10)"
   ]
  },
  {
   "cell_type": "code",
   "execution_count": 175,
   "metadata": {},
   "outputs": [
    {
     "data": {
      "text/html": [
       "<div>\n",
       "<style scoped>\n",
       "    .dataframe tbody tr th:only-of-type {\n",
       "        vertical-align: middle;\n",
       "    }\n",
       "\n",
       "    .dataframe tbody tr th {\n",
       "        vertical-align: top;\n",
       "    }\n",
       "\n",
       "    .dataframe thead th {\n",
       "        text-align: right;\n",
       "    }\n",
       "</style>\n",
       "<table border=\"1\" class=\"dataframe\">\n",
       "  <thead>\n",
       "    <tr style=\"text-align: right;\">\n",
       "      <th></th>\n",
       "      <th>Monthly Nominal GDP Index (inMillion$)</th>\n",
       "      <th>Monthly Real GDP Index (inMillion$)</th>\n",
       "      <th>CPI</th>\n",
       "      <th>unemployment rate</th>\n",
       "      <th>CommercialBankInterestRateonCreditCardPlans</th>\n",
       "      <th>Finance Rate on Personal Loans at Commercial Banks, 24 Month Loan</th>\n",
       "      <th>Earnings or wages  in dollars per hour</th>\n",
       "      <th>Cotton Monthly Price - US cents per Pound(lbs)</th>\n",
       "      <th>Change(in%)</th>\n",
       "      <th>Average upland planted(million acres)</th>\n",
       "      <th>...</th>\n",
       "      <th>ProductCategory</th>\n",
       "      <th>Temp avg (°C)</th>\n",
       "      <th>Dew Point avg (°C)</th>\n",
       "      <th>Humidity (%) avg</th>\n",
       "      <th>Sea Level Press. (hPa) avg</th>\n",
       "      <th>Visibility (km) avg</th>\n",
       "      <th>Wind (km/h) avg</th>\n",
       "      <th>Precip. (mm) sum</th>\n",
       "      <th>Year</th>\n",
       "      <th>Month</th>\n",
       "    </tr>\n",
       "  </thead>\n",
       "  <tbody>\n",
       "    <tr>\n",
       "      <th>59</th>\n",
       "      <td>-42.560051</td>\n",
       "      <td>2.588801</td>\n",
       "      <td>2.000434</td>\n",
       "      <td>-0.795544</td>\n",
       "      <td>-1.646515</td>\n",
       "      <td>-0.269067</td>\n",
       "      <td>-0.953401</td>\n",
       "      <td>-0.745839</td>\n",
       "      <td>-0.218384</td>\n",
       "      <td>-0.495094</td>\n",
       "      <td>...</td>\n",
       "      <td>0.750273</td>\n",
       "      <td>0.436574</td>\n",
       "      <td>0.224764</td>\n",
       "      <td>0.239912</td>\n",
       "      <td>0.072173</td>\n",
       "      <td>0.007926</td>\n",
       "      <td>-0.015989</td>\n",
       "      <td>-0.020974</td>\n",
       "      <td>2010</td>\n",
       "      <td>9</td>\n",
       "    </tr>\n",
       "    <tr>\n",
       "      <th>35</th>\n",
       "      <td>-66.611046</td>\n",
       "      <td>-1.989297</td>\n",
       "      <td>-1.017497</td>\n",
       "      <td>0.429044</td>\n",
       "      <td>-0.315653</td>\n",
       "      <td>2.539533</td>\n",
       "      <td>-1.065322</td>\n",
       "      <td>-0.394085</td>\n",
       "      <td>-0.365910</td>\n",
       "      <td>-0.070486</td>\n",
       "      <td>...</td>\n",
       "      <td>-0.250491</td>\n",
       "      <td>0.649354</td>\n",
       "      <td>-0.154473</td>\n",
       "      <td>0.139457</td>\n",
       "      <td>-0.107372</td>\n",
       "      <td>-0.117263</td>\n",
       "      <td>0.029192</td>\n",
       "      <td>-0.003516</td>\n",
       "      <td>2009</td>\n",
       "      <td>12</td>\n",
       "    </tr>\n",
       "    <tr>\n",
       "      <th>47</th>\n",
       "      <td>-54.574736</td>\n",
       "      <td>-0.574691</td>\n",
       "      <td>-1.844705</td>\n",
       "      <td>-1.018525</td>\n",
       "      <td>-1.151252</td>\n",
       "      <td>0.187850</td>\n",
       "      <td>1.498605</td>\n",
       "      <td>-0.529094</td>\n",
       "      <td>-0.676132</td>\n",
       "      <td>1.294099</td>\n",
       "      <td>...</td>\n",
       "      <td>-0.179766</td>\n",
       "      <td>-0.115342</td>\n",
       "      <td>0.431732</td>\n",
       "      <td>-0.136932</td>\n",
       "      <td>0.096823</td>\n",
       "      <td>-0.073768</td>\n",
       "      <td>-0.013746</td>\n",
       "      <td>0.024639</td>\n",
       "      <td>2010</td>\n",
       "      <td>5</td>\n",
       "    </tr>\n",
       "    <tr>\n",
       "      <th>98</th>\n",
       "      <td>-3.464707</td>\n",
       "      <td>0.627918</td>\n",
       "      <td>0.001072</td>\n",
       "      <td>-1.627957</td>\n",
       "      <td>2.358819</td>\n",
       "      <td>0.437184</td>\n",
       "      <td>-0.685832</td>\n",
       "      <td>-0.454908</td>\n",
       "      <td>0.396996</td>\n",
       "      <td>-0.305782</td>\n",
       "      <td>...</td>\n",
       "      <td>0.354067</td>\n",
       "      <td>-0.321687</td>\n",
       "      <td>0.237817</td>\n",
       "      <td>0.128543</td>\n",
       "      <td>-0.096132</td>\n",
       "      <td>0.082769</td>\n",
       "      <td>0.032429</td>\n",
       "      <td>-0.021338</td>\n",
       "      <td>2011</td>\n",
       "      <td>11</td>\n",
       "    </tr>\n",
       "    <tr>\n",
       "      <th>101</th>\n",
       "      <td>-0.468292</td>\n",
       "      <td>-0.055716</td>\n",
       "      <td>-0.164958</td>\n",
       "      <td>-1.905643</td>\n",
       "      <td>2.491215</td>\n",
       "      <td>1.580259</td>\n",
       "      <td>-0.368279</td>\n",
       "      <td>-0.095429</td>\n",
       "      <td>0.624872</td>\n",
       "      <td>-0.147577</td>\n",
       "      <td>...</td>\n",
       "      <td>0.512732</td>\n",
       "      <td>-0.198359</td>\n",
       "      <td>0.181448</td>\n",
       "      <td>-0.009457</td>\n",
       "      <td>-0.196800</td>\n",
       "      <td>-0.007866</td>\n",
       "      <td>0.128231</td>\n",
       "      <td>0.015114</td>\n",
       "      <td>2011</td>\n",
       "      <td>12</td>\n",
       "    </tr>\n",
       "  </tbody>\n",
       "</table>\n",
       "<p>5 rows × 25 columns</p>\n",
       "</div>"
      ],
      "text/plain": [
       "     Monthly Nominal GDP Index (inMillion$)  \\\n",
       "59                               -42.560051   \n",
       "35                               -66.611046   \n",
       "47                               -54.574736   \n",
       "98                                -3.464707   \n",
       "101                               -0.468292   \n",
       "\n",
       "     Monthly Real GDP Index (inMillion$)       CPI  unemployment rate  \\\n",
       "59                              2.588801  2.000434          -0.795544   \n",
       "35                             -1.989297 -1.017497           0.429044   \n",
       "47                             -0.574691 -1.844705          -1.018525   \n",
       "98                              0.627918  0.001072          -1.627957   \n",
       "101                            -0.055716 -0.164958          -1.905643   \n",
       "\n",
       "     CommercialBankInterestRateonCreditCardPlans  \\\n",
       "59                                     -1.646515   \n",
       "35                                     -0.315653   \n",
       "47                                     -1.151252   \n",
       "98                                      2.358819   \n",
       "101                                     2.491215   \n",
       "\n",
       "     Finance Rate on Personal Loans at Commercial Banks, 24 Month Loan  \\\n",
       "59                                           -0.269067                   \n",
       "35                                            2.539533                   \n",
       "47                                            0.187850                   \n",
       "98                                            0.437184                   \n",
       "101                                           1.580259                   \n",
       "\n",
       "     Earnings or wages  in dollars per hour  \\\n",
       "59                                -0.953401   \n",
       "35                                -1.065322   \n",
       "47                                 1.498605   \n",
       "98                                -0.685832   \n",
       "101                               -0.368279   \n",
       "\n",
       "     Cotton Monthly Price - US cents per Pound(lbs)  Change(in%)  \\\n",
       "59                                        -0.745839    -0.218384   \n",
       "35                                        -0.394085    -0.365910   \n",
       "47                                        -0.529094    -0.676132   \n",
       "98                                        -0.454908     0.396996   \n",
       "101                                       -0.095429     0.624872   \n",
       "\n",
       "     Average upland planted(million acres)  ...  ProductCategory  \\\n",
       "59                               -0.495094  ...         0.750273   \n",
       "35                               -0.070486  ...        -0.250491   \n",
       "47                                1.294099  ...        -0.179766   \n",
       "98                               -0.305782  ...         0.354067   \n",
       "101                              -0.147577  ...         0.512732   \n",
       "\n",
       "     Temp avg (°C)  Dew Point avg (°C)  Humidity (%) avg  \\\n",
       "59        0.436574            0.224764          0.239912   \n",
       "35        0.649354           -0.154473          0.139457   \n",
       "47       -0.115342            0.431732         -0.136932   \n",
       "98       -0.321687            0.237817          0.128543   \n",
       "101      -0.198359            0.181448         -0.009457   \n",
       "\n",
       "     Sea Level Press. (hPa) avg  Visibility (km) avg  Wind (km/h) avg  \\\n",
       "59                     0.072173             0.007926        -0.015989   \n",
       "35                    -0.107372            -0.117263         0.029192   \n",
       "47                     0.096823            -0.073768        -0.013746   \n",
       "98                    -0.096132             0.082769         0.032429   \n",
       "101                   -0.196800            -0.007866         0.128231   \n",
       "\n",
       "     Precip. (mm) sum  Year  Month  \n",
       "59          -0.020974  2010      9  \n",
       "35          -0.003516  2009     12  \n",
       "47           0.024639  2010      5  \n",
       "98          -0.021338  2011     11  \n",
       "101          0.015114  2011     12  \n",
       "\n",
       "[5 rows x 25 columns]"
      ]
     },
     "execution_count": 175,
     "metadata": {},
     "output_type": "execute_result"
    }
   ],
   "source": [
    "x_test_pca.head()"
   ]
  },
  {
   "cell_type": "code",
   "execution_count": 176,
   "metadata": {},
   "outputs": [],
   "source": [
    "from sklearn.ensemble import GradientBoostingRegressor\n",
    "model_3 = GradientBoostingRegressor(n_estimators=2)\n",
    "model_3.fit(x_train_pca,y_train_pca)\n",
    "y_pred1=model_3.predict(x_test_pca)"
   ]
  },
  {
   "cell_type": "code",
   "execution_count": 177,
   "metadata": {},
   "outputs": [
    {
     "data": {
      "text/plain": [
       "1122.1038725479027"
      ]
     },
     "execution_count": 177,
     "metadata": {},
     "output_type": "execute_result"
    }
   ],
   "source": [
    "RMSE_train = np.sqrt(metrics.mean_squared_error(y_pred1,y_test_pca))\n",
    "RMSE_train"
   ]
  },
  {
   "cell_type": "code",
   "execution_count": 178,
   "metadata": {},
   "outputs": [],
   "source": [
    "test4.drop('Sales(In ThousandDollars)',axis=1,inplace=True)"
   ]
  },
  {
   "cell_type": "code",
   "execution_count": 181,
   "metadata": {},
   "outputs": [],
   "source": [
    "RF.fit(x_train_pca,y_train_pca)\n",
    "pca1=RF.predict(x_test_pca)"
   ]
  },
  {
   "cell_type": "code",
   "execution_count": 182,
   "metadata": {},
   "outputs": [
    {
     "data": {
      "text/plain": [
       "437.2830776510795"
      ]
     },
     "execution_count": 182,
     "metadata": {},
     "output_type": "execute_result"
    }
   ],
   "source": [
    "RMSE_train = np.sqrt(metrics.mean_squared_error(pca1,y_test_pca))\n",
    "RMSE_train"
   ]
  },
  {
   "cell_type": "code",
   "execution_count": 191,
   "metadata": {},
   "outputs": [],
   "source": [
    "df=pd.DataFrame({'S.No.':np.arange(1,37),'Sales':pca1})\n",
    "df.to_csv('sub9.csv',index=False)"
   ]
  },
  {
   "cell_type": "code",
   "execution_count": 192,
   "metadata": {},
   "outputs": [],
   "source": [
    "from sklearn.linear_model import LogisticRegression"
   ]
  },
  {
   "cell_type": "code",
   "execution_count": 193,
   "metadata": {},
   "outputs": [
    {
     "name": "stderr",
     "output_type": "stream",
     "text": [
      "//anaconda3/lib/python3.7/site-packages/sklearn/linear_model/logistic.py:432: FutureWarning: Default solver will be changed to 'lbfgs' in 0.22. Specify a solver to silence this warning.\n",
      "  FutureWarning)\n",
      "//anaconda3/lib/python3.7/site-packages/sklearn/linear_model/logistic.py:469: FutureWarning: Default multi_class will be changed to 'auto' in 0.22. Specify the multi_class option to silence this warning.\n",
      "  \"this warning.\", FutureWarning)\n"
     ]
    }
   ],
   "source": [
    "lr=LogisticRegression()\n",
    "lr.fit(x_train_pca,y_train_pca)\n",
    "pca2=RF.predict(test4)"
   ]
  },
  {
   "cell_type": "code",
   "execution_count": 183,
   "metadata": {},
   "outputs": [],
   "source": [
    "from sklearn.tree import ExtraTreeRegressor"
   ]
  },
  {
   "cell_type": "code",
   "execution_count": 184,
   "metadata": {},
   "outputs": [],
   "source": [
    "ex=ExtraTreeRegressor()\n",
    "ex.fit(x_train_pca,y_train_pca)\n",
    "pca3=RF.predict(test4)"
   ]
  },
  {
   "cell_type": "code",
   "execution_count": 198,
   "metadata": {},
   "outputs": [],
   "source": [
    "df=pd.DataFrame({'S.No.':np.arange(1,37),'Sales':pca1})\n",
    "df.to_csv('sub10.csv',index=False)"
   ]
  },
  {
   "cell_type": "code",
   "execution_count": 200,
   "metadata": {},
   "outputs": [
    {
     "data": {
      "text/plain": [
       "GridSearchCV(cv=2, error_score='raise-deprecating',\n",
       "             estimator=KNeighborsRegressor(algorithm='auto', leaf_size=30,\n",
       "                                           metric='minkowski',\n",
       "                                           metric_params=None, n_jobs=None,\n",
       "                                           n_neighbors=5, p=2,\n",
       "                                           weights='uniform'),\n",
       "             iid='warn', n_jobs=None,\n",
       "             param_grid={'metric': ['euclidean', 'manhattan', 'minkowski'],\n",
       "                         'n_neighbors': [3, 5, 7, 9]},\n",
       "             pre_dispatch='2*n_jobs', refit=True, return_train_score=False,\n",
       "             scoring=None, verbose=0)"
      ]
     },
     "execution_count": 200,
     "metadata": {},
     "output_type": "execute_result"
    }
   ],
   "source": [
    "param_grid = {'n_neighbors' : [3,5,7,9],'metric' : ['euclidean','manhattan','minkowski']}\n",
    "knn = KNeighborsRegressor()\n",
    "clf1 = GridSearchCV(knn,param_grid,cv=2)\n",
    "clf1.fit(x_train_pca,y_train_pca)"
   ]
  },
  {
   "cell_type": "code",
   "execution_count": 202,
   "metadata": {},
   "outputs": [
    {
     "data": {
      "text/plain": [
       "array([2036.14285714, 1538.57142857, 2036.14285714, 2036.14285714,\n",
       "       1977.42857143, 2036.14285714, 2066.42857143, 1725.28571429,\n",
       "       1725.28571429, 2610.85714286, 1284.28571429, 1819.        ,\n",
       "       2290.71428571, 1328.71428571, 1403.        , 1746.85714286,\n",
       "       1746.85714286, 1746.85714286, 2213.42857143, 1666.14285714,\n",
       "       1823.42857143, 2316.57142857, 1306.42857143, 1834.42857143,\n",
       "       3372.57142857, 1371.71428571, 1983.71428571, 2956.85714286,\n",
       "       1453.14285714, 2435.57142857, 3662.85714286, 2007.28571429,\n",
       "       2592.71428571, 2851.57142857, 2264.71428571, 2851.57142857])"
      ]
     },
     "execution_count": 202,
     "metadata": {},
     "output_type": "execute_result"
    }
   ],
   "source": [
    "clf1.predict(test4)"
   ]
  },
  {
   "cell_type": "code",
   "execution_count": 203,
   "metadata": {},
   "outputs": [],
   "source": [
    "df=pd.DataFrame({'S.No.':np.arange(1,37),'Sales':pca1})\n",
    "df.to_csv('sub11.csv',index=False)"
   ]
  },
  {
   "cell_type": "code",
   "execution_count": 204,
   "metadata": {},
   "outputs": [],
   "source": [
    "from sklearn.tree import DecisionTreeRegressor"
   ]
  },
  {
   "cell_type": "code",
   "execution_count": 205,
   "metadata": {},
   "outputs": [],
   "source": [
    "dt=DecisionTreeRegressor()"
   ]
  },
  {
   "cell_type": "code",
   "execution_count": 229,
   "metadata": {},
   "outputs": [],
   "source": [
    "dt.fit(x_train,y_train)\n",
    "t=dt.predict(test3)"
   ]
  },
  {
   "cell_type": "code",
   "execution_count": 230,
   "metadata": {},
   "outputs": [],
   "source": [
    "df=pd.DataFrame({'S.No.':np.arange(1,37),'Sales':t})\n",
    "df.to_csv('sub12.csv',index=False)"
   ]
  },
  {
   "cell_type": "code",
   "execution_count": 255,
   "metadata": {},
   "outputs": [],
   "source": [
    "all_data=pd.merge(data,we)"
   ]
  },
  {
   "cell_type": "code",
   "execution_count": 256,
   "metadata": {},
   "outputs": [
    {
     "data": {
      "text/html": [
       "<div>\n",
       "<style scoped>\n",
       "    .dataframe tbody tr th:only-of-type {\n",
       "        vertical-align: middle;\n",
       "    }\n",
       "\n",
       "    .dataframe tbody tr th {\n",
       "        vertical-align: top;\n",
       "    }\n",
       "\n",
       "    .dataframe thead th {\n",
       "        text-align: right;\n",
       "    }\n",
       "</style>\n",
       "<table border=\"1\" class=\"dataframe\">\n",
       "  <thead>\n",
       "    <tr style=\"text-align: right;\">\n",
       "      <th></th>\n",
       "      <th>Year</th>\n",
       "      <th>Month</th>\n",
       "      <th>Monthly Nominal GDP Index (inMillion$)</th>\n",
       "      <th>Monthly Real GDP Index (inMillion$)</th>\n",
       "      <th>CPI</th>\n",
       "      <th>unemployment rate</th>\n",
       "      <th>CommercialBankInterestRateonCreditCardPlans</th>\n",
       "      <th>Finance Rate on Personal Loans at Commercial Banks, 24 Month Loan</th>\n",
       "      <th>Earnings or wages  in dollars per hour</th>\n",
       "      <th>Cotton Monthly Price - US cents per Pound(lbs)</th>\n",
       "      <th>...</th>\n",
       "      <th>Sales(In ThousandDollars)</th>\n",
       "      <th>PartyInPower</th>\n",
       "      <th>AdvertisingExpenses (in Thousand Dollars)</th>\n",
       "      <th>Temp avg (°C)</th>\n",
       "      <th>Dew Point avg (°C)</th>\n",
       "      <th>Humidity (%) avg</th>\n",
       "      <th>Sea Level Press. (hPa) avg</th>\n",
       "      <th>Visibility (km) avg</th>\n",
       "      <th>Wind (km/h) avg</th>\n",
       "      <th>Precip. (mm) sum</th>\n",
       "    </tr>\n",
       "  </thead>\n",
       "  <tbody>\n",
       "    <tr>\n",
       "      <th>0</th>\n",
       "      <td>2015</td>\n",
       "      <td>1</td>\n",
       "      <td>17792.116953</td>\n",
       "      <td>16319.786314</td>\n",
       "      <td>258.376</td>\n",
       "      <td>5.7</td>\n",
       "      <td>11.99</td>\n",
       "      <td>10.47</td>\n",
       "      <td>24.88</td>\n",
       "      <td>67.35</td>\n",
       "      <td>...</td>\n",
       "      <td>NaN</td>\n",
       "      <td>Democrats</td>\n",
       "      <td>?</td>\n",
       "      <td>-1.032258</td>\n",
       "      <td>-9.612903</td>\n",
       "      <td>53.645161</td>\n",
       "      <td>1019.387097</td>\n",
       "      <td>13.032258</td>\n",
       "      <td>11.677419</td>\n",
       "      <td>4.284839</td>\n",
       "    </tr>\n",
       "    <tr>\n",
       "      <th>1</th>\n",
       "      <td>2015</td>\n",
       "      <td>1</td>\n",
       "      <td>17792.116953</td>\n",
       "      <td>16319.786314</td>\n",
       "      <td>258.376</td>\n",
       "      <td>5.7</td>\n",
       "      <td>11.99</td>\n",
       "      <td>10.47</td>\n",
       "      <td>24.88</td>\n",
       "      <td>67.35</td>\n",
       "      <td>...</td>\n",
       "      <td>NaN</td>\n",
       "      <td>Democrats</td>\n",
       "      <td>?</td>\n",
       "      <td>-1.032258</td>\n",
       "      <td>-9.612903</td>\n",
       "      <td>53.645161</td>\n",
       "      <td>1019.387097</td>\n",
       "      <td>13.032258</td>\n",
       "      <td>11.677419</td>\n",
       "      <td>4.284839</td>\n",
       "    </tr>\n",
       "    <tr>\n",
       "      <th>2</th>\n",
       "      <td>2015</td>\n",
       "      <td>1</td>\n",
       "      <td>17792.116953</td>\n",
       "      <td>16319.786314</td>\n",
       "      <td>258.376</td>\n",
       "      <td>5.7</td>\n",
       "      <td>11.99</td>\n",
       "      <td>10.47</td>\n",
       "      <td>24.88</td>\n",
       "      <td>67.35</td>\n",
       "      <td>...</td>\n",
       "      <td>NaN</td>\n",
       "      <td>Democrats</td>\n",
       "      <td>?</td>\n",
       "      <td>-1.032258</td>\n",
       "      <td>-9.612903</td>\n",
       "      <td>53.645161</td>\n",
       "      <td>1019.387097</td>\n",
       "      <td>13.032258</td>\n",
       "      <td>11.677419</td>\n",
       "      <td>4.284839</td>\n",
       "    </tr>\n",
       "    <tr>\n",
       "      <th>3</th>\n",
       "      <td>2015</td>\n",
       "      <td>2</td>\n",
       "      <td>17931.046190</td>\n",
       "      <td>16400.926737</td>\n",
       "      <td>259.240</td>\n",
       "      <td>5.5</td>\n",
       "      <td>11.98</td>\n",
       "      <td>9.85</td>\n",
       "      <td>25.05</td>\n",
       "      <td>69.84</td>\n",
       "      <td>...</td>\n",
       "      <td>NaN</td>\n",
       "      <td>Democrats</td>\n",
       "      <td>?</td>\n",
       "      <td>-4.250000</td>\n",
       "      <td>-12.428571</td>\n",
       "      <td>53.892857</td>\n",
       "      <td>1017.607143</td>\n",
       "      <td>13.428571</td>\n",
       "      <td>11.750000</td>\n",
       "      <td>2.072800</td>\n",
       "    </tr>\n",
       "    <tr>\n",
       "      <th>4</th>\n",
       "      <td>2015</td>\n",
       "      <td>2</td>\n",
       "      <td>17931.046190</td>\n",
       "      <td>16400.926737</td>\n",
       "      <td>259.240</td>\n",
       "      <td>5.5</td>\n",
       "      <td>11.98</td>\n",
       "      <td>9.85</td>\n",
       "      <td>25.05</td>\n",
       "      <td>69.84</td>\n",
       "      <td>...</td>\n",
       "      <td>NaN</td>\n",
       "      <td>Democrats</td>\n",
       "      <td>?</td>\n",
       "      <td>-4.250000</td>\n",
       "      <td>-12.428571</td>\n",
       "      <td>53.892857</td>\n",
       "      <td>1017.607143</td>\n",
       "      <td>13.428571</td>\n",
       "      <td>11.750000</td>\n",
       "      <td>2.072800</td>\n",
       "    </tr>\n",
       "  </tbody>\n",
       "</table>\n",
       "<p>5 rows × 28 columns</p>\n",
       "</div>"
      ],
      "text/plain": [
       "   Year  Month  Monthly Nominal GDP Index (inMillion$)  \\\n",
       "0  2015      1                            17792.116953   \n",
       "1  2015      1                            17792.116953   \n",
       "2  2015      1                            17792.116953   \n",
       "3  2015      2                            17931.046190   \n",
       "4  2015      2                            17931.046190   \n",
       "\n",
       "   Monthly Real GDP Index (inMillion$)      CPI  unemployment rate  \\\n",
       "0                         16319.786314  258.376                5.7   \n",
       "1                         16319.786314  258.376                5.7   \n",
       "2                         16319.786314  258.376                5.7   \n",
       "3                         16400.926737  259.240                5.5   \n",
       "4                         16400.926737  259.240                5.5   \n",
       "\n",
       "   CommercialBankInterestRateonCreditCardPlans  \\\n",
       "0                                        11.99   \n",
       "1                                        11.99   \n",
       "2                                        11.99   \n",
       "3                                        11.98   \n",
       "4                                        11.98   \n",
       "\n",
       "   Finance Rate on Personal Loans at Commercial Banks, 24 Month Loan  \\\n",
       "0                                              10.47                   \n",
       "1                                              10.47                   \n",
       "2                                              10.47                   \n",
       "3                                               9.85                   \n",
       "4                                               9.85                   \n",
       "\n",
       "   Earnings or wages  in dollars per hour  \\\n",
       "0                                   24.88   \n",
       "1                                   24.88   \n",
       "2                                   24.88   \n",
       "3                                   25.05   \n",
       "4                                   25.05   \n",
       "\n",
       "   Cotton Monthly Price - US cents per Pound(lbs)  ...  \\\n",
       "0                                           67.35  ...   \n",
       "1                                           67.35  ...   \n",
       "2                                           67.35  ...   \n",
       "3                                           69.84  ...   \n",
       "4                                           69.84  ...   \n",
       "\n",
       "   Sales(In ThousandDollars)  PartyInPower  \\\n",
       "0                        NaN     Democrats   \n",
       "1                        NaN     Democrats   \n",
       "2                        NaN     Democrats   \n",
       "3                        NaN     Democrats   \n",
       "4                        NaN     Democrats   \n",
       "\n",
       "   AdvertisingExpenses (in Thousand Dollars)  Temp avg (°C)  \\\n",
       "0                                          ?      -1.032258   \n",
       "1                                          ?      -1.032258   \n",
       "2                                          ?      -1.032258   \n",
       "3                                          ?      -4.250000   \n",
       "4                                          ?      -4.250000   \n",
       "\n",
       "   Dew Point avg (°C)  Humidity (%) avg  Sea Level Press. (hPa) avg  \\\n",
       "0           -9.612903         53.645161                 1019.387097   \n",
       "1           -9.612903         53.645161                 1019.387097   \n",
       "2           -9.612903         53.645161                 1019.387097   \n",
       "3          -12.428571         53.892857                 1017.607143   \n",
       "4          -12.428571         53.892857                 1017.607143   \n",
       "\n",
       "   Visibility (km) avg  Wind (km/h) avg Precip. (mm) sum  \n",
       "0            13.032258        11.677419         4.284839  \n",
       "1            13.032258        11.677419         4.284839  \n",
       "2            13.032258        11.677419         4.284839  \n",
       "3            13.428571        11.750000         2.072800  \n",
       "4            13.428571        11.750000         2.072800  \n",
       "\n",
       "[5 rows x 28 columns]"
      ]
     },
     "execution_count": 256,
     "metadata": {},
     "output_type": "execute_result"
    }
   ],
   "source": [
    "all_data.head()"
   ]
  },
  {
   "cell_type": "code",
   "execution_count": 257,
   "metadata": {},
   "outputs": [],
   "source": [
    "all_data.drop(['PartyInPower','AdvertisingExpenses (in Thousand Dollars)'],axis=1,inplace=True)"
   ]
  },
  {
   "cell_type": "code",
   "execution_count": null,
   "metadata": {},
   "outputs": [],
   "source": []
  },
  {
   "cell_type": "code",
   "execution_count": 258,
   "metadata": {},
   "outputs": [
    {
     "data": {
      "text/plain": [
       "(36, 26)"
      ]
     },
     "execution_count": 258,
     "metadata": {},
     "output_type": "execute_result"
    }
   ],
   "source": [
    "all_test=all_data.loc[:35,:]\n",
    "all_test.shape"
   ]
  },
  {
   "cell_type": "code",
   "execution_count": 260,
   "metadata": {},
   "outputs": [
    {
     "data": {
      "text/plain": [
       "(204, 26)"
      ]
     },
     "execution_count": 260,
     "metadata": {},
     "output_type": "execute_result"
    }
   ],
   "source": [
    "all_train=all2.loc[36:,:]\n",
    "all_train.shape"
   ]
  },
  {
   "cell_type": "code",
   "execution_count": 362,
   "metadata": {},
   "outputs": [],
   "source": [
    "x=all_train.drop('Sales(In ThousandDollars)',axis=1)\n",
    "y=all_train['Sales(In ThousandDollars)']\n",
    "\n",
    "x_train,x_test,y_train,y_test=train_test_split(x,y,test_size=0.3,random_state=30)"
   ]
  },
  {
   "cell_type": "code",
   "execution_count": 262,
   "metadata": {},
   "outputs": [
    {
     "data": {
      "text/plain": [
       "DecisionTreeRegressor(criterion='mse', max_depth=None, max_features=None,\n",
       "                      max_leaf_nodes=None, min_impurity_decrease=0.0,\n",
       "                      min_impurity_split=None, min_samples_leaf=1,\n",
       "                      min_samples_split=2, min_weight_fraction_leaf=0.0,\n",
       "                      presort=False, random_state=None, splitter='best')"
      ]
     },
     "execution_count": 262,
     "metadata": {},
     "output_type": "execute_result"
    }
   ],
   "source": [
    "dt.fit(x_train,y_train)"
   ]
  },
  {
   "cell_type": "code",
   "execution_count": 263,
   "metadata": {},
   "outputs": [
    {
     "name": "stderr",
     "output_type": "stream",
     "text": [
      "//anaconda3/lib/python3.7/site-packages/pandas/core/frame.py:3940: SettingWithCopyWarning: \n",
      "A value is trying to be set on a copy of a slice from a DataFrame\n",
      "\n",
      "See the caveats in the documentation: http://pandas.pydata.org/pandas-docs/stable/indexing.html#indexing-view-versus-copy\n",
      "  errors=errors)\n"
     ]
    }
   ],
   "source": [
    "all_test.drop('Sales(In ThousandDollars)',axis=1,inplace=True)"
   ]
  },
  {
   "cell_type": "code",
   "execution_count": 267,
   "metadata": {},
   "outputs": [
    {
     "data": {
      "text/plain": [
       "array([5664.,  560., 1468., 5664.,  560., 1468., 5664.,  785., 1468.,\n",
       "       5664.,  785., 1468., 5664.,  687., 1468., 5664.,  687., 1468.,\n",
       "       5664.,  687., 1468., 5664.,  681., 1468., 5664.,  681., 1468.,\n",
       "       5664.,  801., 1468., 5664.,  801., 1468., 5664.,  930., 1475.])"
      ]
     },
     "execution_count": 267,
     "metadata": {},
     "output_type": "execute_result"
    }
   ],
   "source": [
    "dt.predict(all_test)"
   ]
  },
  {
   "cell_type": "code",
   "execution_count": 265,
   "metadata": {},
   "outputs": [
    {
     "data": {
      "text/html": [
       "<div>\n",
       "<style scoped>\n",
       "    .dataframe tbody tr th:only-of-type {\n",
       "        vertical-align: middle;\n",
       "    }\n",
       "\n",
       "    .dataframe tbody tr th {\n",
       "        vertical-align: top;\n",
       "    }\n",
       "\n",
       "    .dataframe thead th {\n",
       "        text-align: right;\n",
       "    }\n",
       "</style>\n",
       "<table border=\"1\" class=\"dataframe\">\n",
       "  <thead>\n",
       "    <tr style=\"text-align: right;\">\n",
       "      <th></th>\n",
       "      <th>Year</th>\n",
       "      <th>Month</th>\n",
       "      <th>Monthly Nominal GDP Index (inMillion$)</th>\n",
       "      <th>Monthly Real GDP Index (inMillion$)</th>\n",
       "      <th>CPI</th>\n",
       "      <th>unemployment rate</th>\n",
       "      <th>CommercialBankInterestRateonCreditCardPlans</th>\n",
       "      <th>Finance Rate on Personal Loans at Commercial Banks, 24 Month Loan</th>\n",
       "      <th>Earnings or wages  in dollars per hour</th>\n",
       "      <th>Cotton Monthly Price - US cents per Pound(lbs)</th>\n",
       "      <th>...</th>\n",
       "      <th>Mill use  (in  480-lb netweright in million bales)</th>\n",
       "      <th>Exports</th>\n",
       "      <th>ProductCategory</th>\n",
       "      <th>Temp avg (°C)</th>\n",
       "      <th>Dew Point avg (°C)</th>\n",
       "      <th>Humidity (%) avg</th>\n",
       "      <th>Sea Level Press. (hPa) avg</th>\n",
       "      <th>Visibility (km) avg</th>\n",
       "      <th>Wind (km/h) avg</th>\n",
       "      <th>Precip. (mm) sum</th>\n",
       "    </tr>\n",
       "  </thead>\n",
       "  <tbody>\n",
       "    <tr>\n",
       "      <th>0</th>\n",
       "      <td>2015</td>\n",
       "      <td>1</td>\n",
       "      <td>17792.116953</td>\n",
       "      <td>16319.786314</td>\n",
       "      <td>258.376</td>\n",
       "      <td>5.7</td>\n",
       "      <td>11.99</td>\n",
       "      <td>10.47</td>\n",
       "      <td>24.88</td>\n",
       "      <td>67.35</td>\n",
       "      <td>...</td>\n",
       "      <td>3.775</td>\n",
       "      <td>9.45</td>\n",
       "      <td>2</td>\n",
       "      <td>-1.032258</td>\n",
       "      <td>-9.612903</td>\n",
       "      <td>53.645161</td>\n",
       "      <td>1019.387097</td>\n",
       "      <td>13.032258</td>\n",
       "      <td>11.677419</td>\n",
       "      <td>4.284839</td>\n",
       "    </tr>\n",
       "    <tr>\n",
       "      <th>1</th>\n",
       "      <td>2015</td>\n",
       "      <td>1</td>\n",
       "      <td>17792.116953</td>\n",
       "      <td>16319.786314</td>\n",
       "      <td>258.376</td>\n",
       "      <td>5.7</td>\n",
       "      <td>11.99</td>\n",
       "      <td>10.47</td>\n",
       "      <td>24.88</td>\n",
       "      <td>67.35</td>\n",
       "      <td>...</td>\n",
       "      <td>3.775</td>\n",
       "      <td>9.45</td>\n",
       "      <td>0</td>\n",
       "      <td>-1.032258</td>\n",
       "      <td>-9.612903</td>\n",
       "      <td>53.645161</td>\n",
       "      <td>1019.387097</td>\n",
       "      <td>13.032258</td>\n",
       "      <td>11.677419</td>\n",
       "      <td>4.284839</td>\n",
       "    </tr>\n",
       "    <tr>\n",
       "      <th>2</th>\n",
       "      <td>2015</td>\n",
       "      <td>1</td>\n",
       "      <td>17792.116953</td>\n",
       "      <td>16319.786314</td>\n",
       "      <td>258.376</td>\n",
       "      <td>5.7</td>\n",
       "      <td>11.99</td>\n",
       "      <td>10.47</td>\n",
       "      <td>24.88</td>\n",
       "      <td>67.35</td>\n",
       "      <td>...</td>\n",
       "      <td>3.775</td>\n",
       "      <td>9.45</td>\n",
       "      <td>1</td>\n",
       "      <td>-1.032258</td>\n",
       "      <td>-9.612903</td>\n",
       "      <td>53.645161</td>\n",
       "      <td>1019.387097</td>\n",
       "      <td>13.032258</td>\n",
       "      <td>11.677419</td>\n",
       "      <td>4.284839</td>\n",
       "    </tr>\n",
       "    <tr>\n",
       "      <th>3</th>\n",
       "      <td>2015</td>\n",
       "      <td>2</td>\n",
       "      <td>17931.046190</td>\n",
       "      <td>16400.926737</td>\n",
       "      <td>259.240</td>\n",
       "      <td>5.5</td>\n",
       "      <td>11.98</td>\n",
       "      <td>9.85</td>\n",
       "      <td>25.05</td>\n",
       "      <td>69.84</td>\n",
       "      <td>...</td>\n",
       "      <td>3.625</td>\n",
       "      <td>10.20</td>\n",
       "      <td>2</td>\n",
       "      <td>-4.250000</td>\n",
       "      <td>-12.428571</td>\n",
       "      <td>53.892857</td>\n",
       "      <td>1017.607143</td>\n",
       "      <td>13.428571</td>\n",
       "      <td>11.750000</td>\n",
       "      <td>2.072800</td>\n",
       "    </tr>\n",
       "    <tr>\n",
       "      <th>4</th>\n",
       "      <td>2015</td>\n",
       "      <td>2</td>\n",
       "      <td>17931.046190</td>\n",
       "      <td>16400.926737</td>\n",
       "      <td>259.240</td>\n",
       "      <td>5.5</td>\n",
       "      <td>11.98</td>\n",
       "      <td>9.85</td>\n",
       "      <td>25.05</td>\n",
       "      <td>69.84</td>\n",
       "      <td>...</td>\n",
       "      <td>3.625</td>\n",
       "      <td>10.20</td>\n",
       "      <td>0</td>\n",
       "      <td>-4.250000</td>\n",
       "      <td>-12.428571</td>\n",
       "      <td>53.892857</td>\n",
       "      <td>1017.607143</td>\n",
       "      <td>13.428571</td>\n",
       "      <td>11.750000</td>\n",
       "      <td>2.072800</td>\n",
       "    </tr>\n",
       "  </tbody>\n",
       "</table>\n",
       "<p>5 rows × 25 columns</p>\n",
       "</div>"
      ],
      "text/plain": [
       "   Year  Month  Monthly Nominal GDP Index (inMillion$)  \\\n",
       "0  2015      1                            17792.116953   \n",
       "1  2015      1                            17792.116953   \n",
       "2  2015      1                            17792.116953   \n",
       "3  2015      2                            17931.046190   \n",
       "4  2015      2                            17931.046190   \n",
       "\n",
       "   Monthly Real GDP Index (inMillion$)      CPI  unemployment rate  \\\n",
       "0                         16319.786314  258.376                5.7   \n",
       "1                         16319.786314  258.376                5.7   \n",
       "2                         16319.786314  258.376                5.7   \n",
       "3                         16400.926737  259.240                5.5   \n",
       "4                         16400.926737  259.240                5.5   \n",
       "\n",
       "   CommercialBankInterestRateonCreditCardPlans  \\\n",
       "0                                        11.99   \n",
       "1                                        11.99   \n",
       "2                                        11.99   \n",
       "3                                        11.98   \n",
       "4                                        11.98   \n",
       "\n",
       "   Finance Rate on Personal Loans at Commercial Banks, 24 Month Loan  \\\n",
       "0                                              10.47                   \n",
       "1                                              10.47                   \n",
       "2                                              10.47                   \n",
       "3                                               9.85                   \n",
       "4                                               9.85                   \n",
       "\n",
       "   Earnings or wages  in dollars per hour  \\\n",
       "0                                   24.88   \n",
       "1                                   24.88   \n",
       "2                                   24.88   \n",
       "3                                   25.05   \n",
       "4                                   25.05   \n",
       "\n",
       "   Cotton Monthly Price - US cents per Pound(lbs)  ...  \\\n",
       "0                                           67.35  ...   \n",
       "1                                           67.35  ...   \n",
       "2                                           67.35  ...   \n",
       "3                                           69.84  ...   \n",
       "4                                           69.84  ...   \n",
       "\n",
       "   Mill use  (in  480-lb netweright in million bales)  Exports  \\\n",
       "0                                              3.775      9.45   \n",
       "1                                              3.775      9.45   \n",
       "2                                              3.775      9.45   \n",
       "3                                              3.625     10.20   \n",
       "4                                              3.625     10.20   \n",
       "\n",
       "   ProductCategory  Temp avg (°C)  Dew Point avg (°C)  Humidity (%) avg  \\\n",
       "0                2      -1.032258           -9.612903         53.645161   \n",
       "1                0      -1.032258           -9.612903         53.645161   \n",
       "2                1      -1.032258           -9.612903         53.645161   \n",
       "3                2      -4.250000          -12.428571         53.892857   \n",
       "4                0      -4.250000          -12.428571         53.892857   \n",
       "\n",
       "   Sea Level Press. (hPa) avg  Visibility (km) avg  Wind (km/h) avg  \\\n",
       "0                 1019.387097            13.032258        11.677419   \n",
       "1                 1019.387097            13.032258        11.677419   \n",
       "2                 1019.387097            13.032258        11.677419   \n",
       "3                 1017.607143            13.428571        11.750000   \n",
       "4                 1017.607143            13.428571        11.750000   \n",
       "\n",
       "   Precip. (mm) sum  \n",
       "0          4.284839  \n",
       "1          4.284839  \n",
       "2          4.284839  \n",
       "3          2.072800  \n",
       "4          2.072800  \n",
       "\n",
       "[5 rows x 25 columns]"
      ]
     },
     "execution_count": 265,
     "metadata": {},
     "output_type": "execute_result"
    }
   ],
   "source": [
    "all_test.head()"
   ]
  },
  {
   "cell_type": "code",
   "execution_count": 268,
   "metadata": {},
   "outputs": [
    {
     "name": "stdout",
     "output_type": "stream",
     "text": [
      "Collecting tpot\n",
      "  Using cached https://files.pythonhosted.org/packages/b5/4e/9ce813120662d9bd357aac6cb922f4b08b85049ed86eb47fe34a02d27f14/TPOT-0.10.2-py3-none-any.whl\n",
      "Requirement already satisfied: numpy>=1.12.1 in /anaconda3/lib/python3.7/site-packages (from tpot) (1.16.4)\n",
      "Requirement already satisfied: scikit-learn>=0.18.1 in /anaconda3/lib/python3.7/site-packages (from tpot) (0.21.2)\n",
      "Collecting deap>=1.0 (from tpot)\n",
      "\u001b[?25l  Downloading https://files.pythonhosted.org/packages/b7/16/6a25e3610f11e9e3d5e0928f9c7d09b94179a974394078849399e0b08f0b/deap-1.3.0-cp37-cp37m-macosx_10_14_x86_64.whl (187kB)\n",
      "\u001b[K     |████████████████████████████████| 194kB 263kB/s eta 0:00:01\n",
      "\u001b[?25hCollecting stopit>=1.1.1 (from tpot)\n",
      "  Using cached https://files.pythonhosted.org/packages/35/58/e8bb0b0fb05baf07bbac1450c447d753da65f9701f551dca79823ce15d50/stopit-1.1.2.tar.gz\n",
      "Requirement already satisfied: tqdm>=4.26.0 in /anaconda3/lib/python3.7/site-packages (from tpot) (4.32.1)\n",
      "Requirement already satisfied: pandas>=0.20.2 in /anaconda3/lib/python3.7/site-packages (from tpot) (0.24.2)\n",
      "Requirement already satisfied: scipy>=0.19.0 in /anaconda3/lib/python3.7/site-packages (from tpot) (1.3.0)\n",
      "Requirement already satisfied: joblib>=0.10.3 in /anaconda3/lib/python3.7/site-packages (from tpot) (0.13.2)\n",
      "Collecting update-checker>=0.16 (from tpot)\n",
      "  Using cached https://files.pythonhosted.org/packages/17/c9/ab11855af164d03be0ff4fddd4c46a5bd44799a9ecc1770e01a669c21168/update_checker-0.16-py2.py3-none-any.whl\n",
      "Requirement already satisfied: python-dateutil>=2.5.0 in /anaconda3/lib/python3.7/site-packages (from pandas>=0.20.2->tpot) (2.8.0)\n",
      "Requirement already satisfied: pytz>=2011k in /anaconda3/lib/python3.7/site-packages (from pandas>=0.20.2->tpot) (2019.1)\n",
      "Requirement already satisfied: requests>=2.3.0 in /anaconda3/lib/python3.7/site-packages (from update-checker>=0.16->tpot) (2.22.0)\n",
      "Requirement already satisfied: six>=1.5 in /anaconda3/lib/python3.7/site-packages (from python-dateutil>=2.5.0->pandas>=0.20.2->tpot) (1.12.0)\n",
      "Requirement already satisfied: certifi>=2017.4.17 in /anaconda3/lib/python3.7/site-packages (from requests>=2.3.0->update-checker>=0.16->tpot) (2019.6.16)\n",
      "Requirement already satisfied: chardet<3.1.0,>=3.0.2 in /anaconda3/lib/python3.7/site-packages (from requests>=2.3.0->update-checker>=0.16->tpot) (3.0.4)\n",
      "Requirement already satisfied: idna<2.9,>=2.5 in /anaconda3/lib/python3.7/site-packages (from requests>=2.3.0->update-checker>=0.16->tpot) (2.8)\n",
      "Requirement already satisfied: urllib3!=1.25.0,!=1.25.1,<1.26,>=1.21.1 in /anaconda3/lib/python3.7/site-packages (from requests>=2.3.0->update-checker>=0.16->tpot) (1.24.2)\n",
      "Building wheels for collected packages: stopit\n",
      "  Building wheel for stopit (setup.py) ... \u001b[?25ldone\n",
      "\u001b[?25h  Stored in directory: /Users/yashikabandaru/Library/Caches/pip/wheels/3c/85/2b/2580190404636bfc63e8de3dff629c03bb795021e1983a6cc7\n",
      "Successfully built stopit\n",
      "Installing collected packages: deap, stopit, update-checker, tpot\n",
      "Successfully installed deap-1.3.0 stopit-1.1.2 tpot-0.10.2 update-checker-0.16\n"
     ]
    }
   ],
   "source": [
    "!pip install tpot"
   ]
  },
  {
   "cell_type": "code",
   "execution_count": 465,
   "metadata": {},
   "outputs": [],
   "source": [
    "import tpot\n",
    "from tpot import TPOTRegressor"
   ]
  },
  {
   "cell_type": "code",
   "execution_count": 528,
   "metadata": {},
   "outputs": [],
   "source": [
    "tpt=TPOTRegressor(verbosity=2, max_time_mins=2, max_eval_time_mins=0.04, population_size=200)\n",
    "#TPOTRegressor(verbosity=2, max_time_mins=2, max_eval_time_mins=0.04, population_size=15)\n",
    "#tpt.fit(x_train,y_train)"
   ]
  },
  {
   "cell_type": "code",
   "execution_count": 529,
   "metadata": {},
   "outputs": [
    {
     "name": "stdout",
     "output_type": "stream",
     "text": [
      "Warning: xgboost.XGBRegressor is not available and will not be used by TPOT.\n"
     ]
    },
    {
     "data": {
      "application/vnd.jupyter.widget-view+json": {
       "model_id": "182520f6344d4bc29ee14b9430475c0b",
       "version_major": 2,
       "version_minor": 0
      },
      "text/plain": [
       "HBox(children=(IntProgress(value=0, description='Optimization Progress', max=200, style=ProgressStyle(descript…"
      ]
     },
     "metadata": {},
     "output_type": "display_data"
    },
    {
     "name": "stdout",
     "output_type": "stream",
     "text": [
      "\n",
      "2.000821683333333 minutes have elapsed. TPOT will close down.\n",
      "TPOT closed during evaluation in one generation.\n",
      "WARNING: TPOT may not provide a good pipeline if TPOT is stopped/interrupted in a early generation.\n",
      "\n",
      "\n",
      "TPOT closed prematurely. Will use the current best pipeline.\n",
      "\n",
      "Best pipeline: RandomForestRegressor(ExtraTreesRegressor(input_matrix, bootstrap=True, max_features=0.25, min_samples_leaf=5, min_samples_split=11, n_estimators=100), bootstrap=False, max_features=0.9000000000000001, min_samples_leaf=2, min_samples_split=4, n_estimators=100)\n"
     ]
    },
    {
     "data": {
      "text/plain": [
       "TPOTRegressor(config_dict=None, crossover_rate=0.1, cv=5,\n",
       "              disable_update_check=False, early_stop=None, generations=1000000,\n",
       "              max_eval_time_mins=0.04, max_time_mins=2, memory=None,\n",
       "              mutation_rate=0.9, n_jobs=1, offspring_size=None,\n",
       "              periodic_checkpoint_folder=None, population_size=200,\n",
       "              random_state=None, scoring=None, subsample=1.0, template=None,\n",
       "              use_dask=False, verbosity=2, warm_start=False)"
      ]
     },
     "execution_count": 529,
     "metadata": {},
     "output_type": "execute_result"
    }
   ],
   "source": [
    "tpt.fit(x,y)"
   ]
  },
  {
   "cell_type": "code",
   "execution_count": 523,
   "metadata": {},
   "outputs": [
    {
     "data": {
      "text/plain": [
       "array([3849.18472266,  825.40711686, 1289.32394098, 3838.24029486,\n",
       "        839.33543286, 1295.45458783, 4160.01074337,  827.16241954,\n",
       "       1283.1977774 , 4176.76667068,  844.77675243, 1294.65871985,\n",
       "       4207.32121079,  846.03769363, 1295.24588703, 4228.79066994,\n",
       "        860.94086413, 1310.14905753, 4221.0142623 ,  853.16445649,\n",
       "       1302.37264989, 4226.08462363,  858.23481782, 1308.11678523,\n",
       "       4297.8840635 ,  874.70568891, 1324.58765632, 4289.42826959,\n",
       "        865.54764701, 1314.1800699 , 4524.47190266,  866.99434211,\n",
       "       1330.28110555, 5397.61890311, 1264.46454979, 1827.40273306])"
      ]
     },
     "execution_count": 523,
     "metadata": {},
     "output_type": "execute_result"
    }
   ],
   "source": [
    "tpt=tpt.predict(test)\n",
    "tpt"
   ]
  },
  {
   "cell_type": "code",
   "execution_count": 525,
   "metadata": {},
   "outputs": [],
   "source": [
    "df=pd.DataFrame({'S.No.':np.arange(1,37),'Sales':tpt})\n",
    "df.to_csv('sub16.csv',index=False)"
   ]
  },
  {
   "cell_type": "markdown",
   "metadata": {},
   "source": [
    "# Stack Generalization"
   ]
  },
  {
   "cell_type": "code",
   "execution_count": 109,
   "metadata": {},
   "outputs": [],
   "source": [
    "x=train.drop('Sales(In ThousandDollars)',axis=1)\n",
    "y=train['Sales(In ThousandDollars)']"
   ]
  },
  {
   "cell_type": "code",
   "execution_count": 130,
   "metadata": {},
   "outputs": [],
   "source": [
    "x_train_tr,x_val,y_train_tr,y_val=train_test_split(x,y,test_size=0.2,random_state=10)"
   ]
  },
  {
   "cell_type": "code",
   "execution_count": 151,
   "metadata": {},
   "outputs": [],
   "source": [
    "RF.fit(x_train_tr,y_train_tr)\n",
    "r=RF.predict(x_val)"
   ]
  },
  {
   "cell_type": "code",
   "execution_count": 132,
   "metadata": {},
   "outputs": [],
   "source": [
    "dt.fit(x_train_tr,y_train_tr)\n",
    "d=dt.predict(x_val)"
   ]
  },
  {
   "cell_type": "code",
   "execution_count": 133,
   "metadata": {},
   "outputs": [],
   "source": [
    "ex.fit(x_train_tr,y_train_tr)\n",
    "e=ex.predict(x_val)"
   ]
  },
  {
   "cell_type": "code",
   "execution_count": 139,
   "metadata": {},
   "outputs": [
    {
     "data": {
      "text/plain": [
       "(41, 3)"
      ]
     },
     "execution_count": 139,
     "metadata": {},
     "output_type": "execute_result"
    }
   ],
   "source": [
    "df=pd.DataFrame({'rf':r,'dt':d,'ex':e})\n",
    "df.shape"
   ]
  },
  {
   "cell_type": "code",
   "execution_count": 141,
   "metadata": {},
   "outputs": [
    {
     "data": {
      "text/plain": [
       "AdaBoostRegressor(base_estimator=None, learning_rate=1.0, loss='linear',\n",
       "                  n_estimators=50, random_state=None)"
      ]
     },
     "execution_count": 141,
     "metadata": {},
     "output_type": "execute_result"
    }
   ],
   "source": [
    "from sklearn.ensemble import AdaBoostRegressor\n",
    "ad =AdaBoostRegressor()\n",
    "\n",
    "ad.fit(df,y_val)"
   ]
  },
  {
   "cell_type": "code",
   "execution_count": 153,
   "metadata": {},
   "outputs": [],
   "source": [
    "dt_test=dt.predict(test)"
   ]
  },
  {
   "cell_type": "code",
   "execution_count": 154,
   "metadata": {},
   "outputs": [],
   "source": [
    "ex_test=ex.predict(test)"
   ]
  },
  {
   "cell_type": "code",
   "execution_count": 155,
   "metadata": {},
   "outputs": [],
   "source": [
    "rf_test=RF.predict(test)"
   ]
  },
  {
   "cell_type": "code",
   "execution_count": null,
   "metadata": {},
   "outputs": [],
   "source": []
  },
  {
   "cell_type": "code",
   "execution_count": 156,
   "metadata": {},
   "outputs": [],
   "source": [
    "df_1=pd.DataFrame({'dt':dt_test,'ex':ex_test,'rf':rf_test})"
   ]
  },
  {
   "cell_type": "code",
   "execution_count": 157,
   "metadata": {},
   "outputs": [
    {
     "data": {
      "text/html": [
       "<div>\n",
       "<style scoped>\n",
       "    .dataframe tbody tr th:only-of-type {\n",
       "        vertical-align: middle;\n",
       "    }\n",
       "\n",
       "    .dataframe tbody tr th {\n",
       "        vertical-align: top;\n",
       "    }\n",
       "\n",
       "    .dataframe thead th {\n",
       "        text-align: right;\n",
       "    }\n",
       "</style>\n",
       "<table border=\"1\" class=\"dataframe\">\n",
       "  <thead>\n",
       "    <tr style=\"text-align: right;\">\n",
       "      <th></th>\n",
       "      <th>dt</th>\n",
       "      <th>ex</th>\n",
       "      <th>rf</th>\n",
       "    </tr>\n",
       "  </thead>\n",
       "  <tbody>\n",
       "    <tr>\n",
       "      <th>0</th>\n",
       "      <td>4525.0</td>\n",
       "      <td>4434.0</td>\n",
       "      <td>4658.9</td>\n",
       "    </tr>\n",
       "    <tr>\n",
       "      <th>1</th>\n",
       "      <td>599.0</td>\n",
       "      <td>599.0</td>\n",
       "      <td>636.5</td>\n",
       "    </tr>\n",
       "    <tr>\n",
       "      <th>2</th>\n",
       "      <td>1468.0</td>\n",
       "      <td>1967.0</td>\n",
       "      <td>1323.4</td>\n",
       "    </tr>\n",
       "    <tr>\n",
       "      <th>3</th>\n",
       "      <td>4525.0</td>\n",
       "      <td>5664.0</td>\n",
       "      <td>4148.1</td>\n",
       "    </tr>\n",
       "    <tr>\n",
       "      <th>4</th>\n",
       "      <td>573.0</td>\n",
       "      <td>599.0</td>\n",
       "      <td>623.6</td>\n",
       "    </tr>\n",
       "  </tbody>\n",
       "</table>\n",
       "</div>"
      ],
      "text/plain": [
       "       dt      ex      rf\n",
       "0  4525.0  4434.0  4658.9\n",
       "1   599.0   599.0   636.5\n",
       "2  1468.0  1967.0  1323.4\n",
       "3  4525.0  5664.0  4148.1\n",
       "4   573.0   599.0   623.6"
      ]
     },
     "execution_count": 157,
     "metadata": {},
     "output_type": "execute_result"
    }
   ],
   "source": [
    "df_1.head()"
   ]
  },
  {
   "cell_type": "code",
   "execution_count": 158,
   "metadata": {},
   "outputs": [],
   "source": [
    "sales=ad.predict(df_1)"
   ]
  },
  {
   "cell_type": "code",
   "execution_count": null,
   "metadata": {},
   "outputs": [],
   "source": []
  }
 ],
 "metadata": {
  "kernelspec": {
   "display_name": "Python 3",
   "language": "python",
   "name": "python3"
  },
  "language_info": {
   "codemirror_mode": {
    "name": "ipython",
    "version": 3
   },
   "file_extension": ".py",
   "mimetype": "text/x-python",
   "name": "python",
   "nbconvert_exporter": "python",
   "pygments_lexer": "ipython3",
   "version": "3.7.3"
  }
 },
 "nbformat": 4,
 "nbformat_minor": 2
}
